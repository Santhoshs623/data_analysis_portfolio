{
 "cells": [
  {
   "cell_type": "markdown",
   "id": "fe75c769",
   "metadata": {
    "papermill": {
     "duration": 0.016679,
     "end_time": "2023-07-21T11:54:33.409823",
     "exception": false,
     "start_time": "2023-07-21T11:54:33.393144",
     "status": "completed"
    },
    "tags": []
   },
   "source": [
    "# K-Means Clustering"
   ]
  },
  {
   "cell_type": "markdown",
   "id": "8614dfaa",
   "metadata": {
    "papermill": {
     "duration": 0.015525,
     "end_time": "2023-07-21T11:54:33.440988",
     "exception": false,
     "start_time": "2023-07-21T11:54:33.425463",
     "status": "completed"
    },
    "tags": []
   },
   "source": [
    "## Problem Statement"
   ]
  },
  {
   "cell_type": "markdown",
   "id": "f2c8b4a2",
   "metadata": {
    "papermill": {
     "duration": 0.016128,
     "end_time": "2023-07-21T11:54:33.474536",
     "exception": false,
     "start_time": "2023-07-21T11:54:33.458408",
     "status": "completed"
    },
    "tags": []
   },
   "source": [
    "**Objective :** Create customer segments by understanding their purchase behaviour for an online retail business.\n",
    "\n",
    "**Algorithm:**\n",
    "K-means Clustering Technique Applied for product segmentation for effective Inventory Management\n",
    "\n",
    "**Conclusions:**\n",
    "\n",
    "The model gives us some great insights by segmenting multiple products into different categories for a retail company with similar/cyclical buying pattern over a period of 1 year. This can help us the retail shop manage their inventory better thereby lowering costs and raising revenue by placing the orders in synchornized with the buying cycles.\n",
    "\n",
    "**Dataset Description:**\n",
    "\n",
    "This dataset consists of is a weekly sales data of 54,000+ rows of data for for a global retail company with 8 attributes (qualitative and quantitative)."
   ]
  },
  {
   "cell_type": "markdown",
   "id": "41d9c515",
   "metadata": {
    "papermill": {
     "duration": 0.016397,
     "end_time": "2023-07-21T11:54:33.507225",
     "exception": false,
     "start_time": "2023-07-21T11:54:33.490828",
     "status": "completed"
    },
    "tags": []
   },
   "source": [
    "## Importing libraries"
   ]
  },
  {
   "cell_type": "code",
   "execution_count": 1,
   "id": "3df67228",
   "metadata": {
    "execution": {
     "iopub.execute_input": "2023-07-21T11:54:33.541528Z",
     "iopub.status.busy": "2023-07-21T11:54:33.540817Z",
     "iopub.status.idle": "2023-07-21T11:54:34.916368Z",
     "shell.execute_reply": "2023-07-21T11:54:34.915416Z"
    },
    "papermill": {
     "duration": 1.396006,
     "end_time": "2023-07-21T11:54:34.919431",
     "exception": false,
     "start_time": "2023-07-21T11:54:33.523425",
     "status": "completed"
    },
    "tags": []
   },
   "outputs": [],
   "source": [
    "#supress warnings\n",
    "import warnings\n",
    "warnings.filterwarnings('ignore')\n",
    "\n",
    "#importing libraries\n",
    "import numpy as np\n",
    "import pandas as pd\n",
    "import matplotlib.pyplot as plt\n",
    "import seaborn as sns"
   ]
  },
  {
   "cell_type": "code",
   "execution_count": 2,
   "id": "463688e0",
   "metadata": {
    "execution": {
     "iopub.execute_input": "2023-07-21T11:54:34.954645Z",
     "iopub.status.busy": "2023-07-21T11:54:34.954234Z",
     "iopub.status.idle": "2023-07-21T11:54:34.965578Z",
     "shell.execute_reply": "2023-07-21T11:54:34.964321Z"
    },
    "papermill": {
     "duration": 0.031772,
     "end_time": "2023-07-21T11:54:34.967870",
     "exception": false,
     "start_time": "2023-07-21T11:54:34.936098",
     "status": "completed"
    },
    "tags": []
   },
   "outputs": [
    {
     "name": "stdout",
     "output_type": "stream",
     "text": [
      "/kaggle/input/learning-data/OnlineRetail.csv\n"
     ]
    }
   ],
   "source": [
    "import os\n",
    "for dirname, _, filenames in os.walk('/kaggle/input'):\n",
    "    for filename in filenames:\n",
    "        print(os.path.join(dirname, filename))"
   ]
  },
  {
   "cell_type": "markdown",
   "id": "a7472a1c",
   "metadata": {
    "papermill": {
     "duration": 0.015951,
     "end_time": "2023-07-21T11:54:35.000381",
     "exception": false,
     "start_time": "2023-07-21T11:54:34.984430",
     "status": "completed"
    },
    "tags": []
   },
   "source": [
    "## Loading dataset"
   ]
  },
  {
   "cell_type": "code",
   "execution_count": 3,
   "id": "ed9a5390",
   "metadata": {
    "execution": {
     "iopub.execute_input": "2023-07-21T11:54:35.035053Z",
     "iopub.status.busy": "2023-07-21T11:54:35.034677Z",
     "iopub.status.idle": "2023-07-21T11:54:36.467560Z",
     "shell.execute_reply": "2023-07-21T11:54:36.466280Z"
    },
    "papermill": {
     "duration": 1.452987,
     "end_time": "2023-07-21T11:54:36.470025",
     "exception": false,
     "start_time": "2023-07-21T11:54:35.017038",
     "status": "completed"
    },
    "tags": []
   },
   "outputs": [
    {
     "data": {
      "text/html": [
       "<div>\n",
       "<style scoped>\n",
       "    .dataframe tbody tr th:only-of-type {\n",
       "        vertical-align: middle;\n",
       "    }\n",
       "\n",
       "    .dataframe tbody tr th {\n",
       "        vertical-align: top;\n",
       "    }\n",
       "\n",
       "    .dataframe thead th {\n",
       "        text-align: right;\n",
       "    }\n",
       "</style>\n",
       "<table border=\"1\" class=\"dataframe\">\n",
       "  <thead>\n",
       "    <tr style=\"text-align: right;\">\n",
       "      <th></th>\n",
       "      <th>InvoiceNo</th>\n",
       "      <th>StockCode</th>\n",
       "      <th>Description</th>\n",
       "      <th>Quantity</th>\n",
       "      <th>InvoiceDate</th>\n",
       "      <th>UnitPrice</th>\n",
       "      <th>CustomerID</th>\n",
       "      <th>Country</th>\n",
       "    </tr>\n",
       "  </thead>\n",
       "  <tbody>\n",
       "    <tr>\n",
       "      <th>0</th>\n",
       "      <td>536365</td>\n",
       "      <td>85123A</td>\n",
       "      <td>WHITE HANGING HEART T-LIGHT HOLDER</td>\n",
       "      <td>6</td>\n",
       "      <td>01-12-2010 08:26</td>\n",
       "      <td>2.55</td>\n",
       "      <td>17850.0</td>\n",
       "      <td>United Kingdom</td>\n",
       "    </tr>\n",
       "    <tr>\n",
       "      <th>1</th>\n",
       "      <td>536365</td>\n",
       "      <td>71053</td>\n",
       "      <td>WHITE METAL LANTERN</td>\n",
       "      <td>6</td>\n",
       "      <td>01-12-2010 08:26</td>\n",
       "      <td>3.39</td>\n",
       "      <td>17850.0</td>\n",
       "      <td>United Kingdom</td>\n",
       "    </tr>\n",
       "    <tr>\n",
       "      <th>2</th>\n",
       "      <td>536365</td>\n",
       "      <td>84406B</td>\n",
       "      <td>CREAM CUPID HEARTS COAT HANGER</td>\n",
       "      <td>8</td>\n",
       "      <td>01-12-2010 08:26</td>\n",
       "      <td>2.75</td>\n",
       "      <td>17850.0</td>\n",
       "      <td>United Kingdom</td>\n",
       "    </tr>\n",
       "    <tr>\n",
       "      <th>3</th>\n",
       "      <td>536365</td>\n",
       "      <td>84029G</td>\n",
       "      <td>KNITTED UNION FLAG HOT WATER BOTTLE</td>\n",
       "      <td>6</td>\n",
       "      <td>01-12-2010 08:26</td>\n",
       "      <td>3.39</td>\n",
       "      <td>17850.0</td>\n",
       "      <td>United Kingdom</td>\n",
       "    </tr>\n",
       "    <tr>\n",
       "      <th>4</th>\n",
       "      <td>536365</td>\n",
       "      <td>84029E</td>\n",
       "      <td>RED WOOLLY HOTTIE WHITE HEART.</td>\n",
       "      <td>6</td>\n",
       "      <td>01-12-2010 08:26</td>\n",
       "      <td>3.39</td>\n",
       "      <td>17850.0</td>\n",
       "      <td>United Kingdom</td>\n",
       "    </tr>\n",
       "  </tbody>\n",
       "</table>\n",
       "</div>"
      ],
      "text/plain": [
       "  InvoiceNo StockCode                          Description  Quantity  \\\n",
       "0    536365    85123A   WHITE HANGING HEART T-LIGHT HOLDER         6   \n",
       "1    536365     71053                  WHITE METAL LANTERN         6   \n",
       "2    536365    84406B       CREAM CUPID HEARTS COAT HANGER         8   \n",
       "3    536365    84029G  KNITTED UNION FLAG HOT WATER BOTTLE         6   \n",
       "4    536365    84029E       RED WOOLLY HOTTIE WHITE HEART.         6   \n",
       "\n",
       "        InvoiceDate  UnitPrice  CustomerID         Country  \n",
       "0  01-12-2010 08:26       2.55     17850.0  United Kingdom  \n",
       "1  01-12-2010 08:26       3.39     17850.0  United Kingdom  \n",
       "2  01-12-2010 08:26       2.75     17850.0  United Kingdom  \n",
       "3  01-12-2010 08:26       3.39     17850.0  United Kingdom  \n",
       "4  01-12-2010 08:26       3.39     17850.0  United Kingdom  "
      ]
     },
     "execution_count": 3,
     "metadata": {},
     "output_type": "execute_result"
    }
   ],
   "source": [
    "# Importing all datasets\n",
    "df = pd.read_csv('/kaggle/input/learning-data/OnlineRetail.csv', encoding= 'ISO-8859-1')\n",
    "df.head()"
   ]
  },
  {
   "cell_type": "code",
   "execution_count": 4,
   "id": "67e2b08a",
   "metadata": {
    "execution": {
     "iopub.execute_input": "2023-07-21T11:54:36.504775Z",
     "iopub.status.busy": "2023-07-21T11:54:36.503796Z",
     "iopub.status.idle": "2023-07-21T11:54:37.425710Z",
     "shell.execute_reply": "2023-07-21T11:54:37.424140Z"
    },
    "papermill": {
     "duration": 0.941452,
     "end_time": "2023-07-21T11:54:37.427945",
     "exception": false,
     "start_time": "2023-07-21T11:54:36.486493",
     "status": "completed"
    },
    "tags": []
   },
   "outputs": [
    {
     "name": "stdout",
     "output_type": "stream",
     "text": [
      "df shape: (541909, 8)\n",
      "\n",
      "No. of missing values in df:\n",
      "InvoiceNo       0.00\n",
      "StockCode       0.00\n",
      "Description     0.27\n",
      "Quantity        0.00\n",
      "InvoiceDate     0.00\n",
      "UnitPrice       0.00\n",
      "CustomerID     24.93\n",
      "Country         0.00\n",
      "dtype: float64\n"
     ]
    }
   ],
   "source": [
    "print('df shape: {}\\n'.format(df.shape))\n",
    "print('No. of missing values in df:')\n",
    "print((100*(df.isna().sum())/(df.shape[0])).round(2))"
   ]
  },
  {
   "cell_type": "code",
   "execution_count": 5,
   "id": "3c8c2d8e",
   "metadata": {
    "execution": {
     "iopub.execute_input": "2023-07-21T11:54:37.463215Z",
     "iopub.status.busy": "2023-07-21T11:54:37.462488Z",
     "iopub.status.idle": "2023-07-21T11:54:38.953706Z",
     "shell.execute_reply": "2023-07-21T11:54:38.952392Z"
    },
    "papermill": {
     "duration": 1.511614,
     "end_time": "2023-07-21T11:54:38.956218",
     "exception": false,
     "start_time": "2023-07-21T11:54:37.444604",
     "status": "completed"
    },
    "tags": []
   },
   "outputs": [
    {
     "name": "stdout",
     "output_type": "stream",
     "text": [
      "No. of missing values in df:\n",
      "\n",
      "InvoiceNo      0.0\n",
      "StockCode      0.0\n",
      "Description    0.0\n",
      "Quantity       0.0\n",
      "InvoiceDate    0.0\n",
      "UnitPrice      0.0\n",
      "CustomerID     0.0\n",
      "Country        0.0\n",
      "dtype: float64\n"
     ]
    }
   ],
   "source": [
    "#droping 24% of missing values from df\n",
    "df.dropna(inplace= True)\n",
    "print('No. of missing values in df:\\n')\n",
    "print((100*(df.isna().sum())/(df.shape[0])).round(2))"
   ]
  },
  {
   "cell_type": "code",
   "execution_count": 6,
   "id": "2ed94576",
   "metadata": {
    "execution": {
     "iopub.execute_input": "2023-07-21T11:54:38.992023Z",
     "iopub.status.busy": "2023-07-21T11:54:38.991378Z",
     "iopub.status.idle": "2023-07-21T11:54:38.997351Z",
     "shell.execute_reply": "2023-07-21T11:54:38.996580Z"
    },
    "papermill": {
     "duration": 0.025852,
     "end_time": "2023-07-21T11:54:38.999200",
     "exception": false,
     "start_time": "2023-07-21T11:54:38.973348",
     "status": "completed"
    },
    "tags": []
   },
   "outputs": [
    {
     "data": {
      "text/plain": [
       "(406829, 8)"
      ]
     },
     "execution_count": 6,
     "metadata": {},
     "output_type": "execute_result"
    }
   ],
   "source": [
    "df.shape"
   ]
  },
  {
   "cell_type": "markdown",
   "id": "8180d94d",
   "metadata": {
    "papermill": {
     "duration": 0.016824,
     "end_time": "2023-07-21T11:54:39.032735",
     "exception": false,
     "start_time": "2023-07-21T11:54:39.015911",
     "status": "completed"
    },
    "tags": []
   },
   "source": [
    "### clustering Analysis\n",
    "- Behavioural clustering\n",
    "- Attitudinal clustering\n",
    "- Geographical clustering\n",
    "\n",
    "Now we are using, Behavioural clutering (RFM approach).\n",
    "#### RFM analysis\n",
    "considering, \n",
    "1 Recency.\n",
    "2 Frequency.\n",
    "3 Monetory Value."
   ]
  },
  {
   "cell_type": "markdown",
   "id": "2c56dc13",
   "metadata": {
    "papermill": {
     "duration": 0.016522,
     "end_time": "2023-07-21T11:54:39.065732",
     "exception": false,
     "start_time": "2023-07-21T11:54:39.049210",
     "status": "completed"
    },
    "tags": []
   },
   "source": [
    "## Data Preperation"
   ]
  },
  {
   "cell_type": "markdown",
   "id": "ab9e9040",
   "metadata": {
    "papermill": {
     "duration": 0.016467,
     "end_time": "2023-07-21T11:54:39.099094",
     "exception": false,
     "start_time": "2023-07-21T11:54:39.082627",
     "status": "completed"
    },
    "tags": []
   },
   "source": [
    "Generally Qty will be negative, if provided any discount. We will check is there any product with negative qty other than discount."
   ]
  },
  {
   "cell_type": "code",
   "execution_count": 7,
   "id": "e6b33897",
   "metadata": {
    "execution": {
     "iopub.execute_input": "2023-07-21T11:54:39.134607Z",
     "iopub.status.busy": "2023-07-21T11:54:39.134179Z",
     "iopub.status.idle": "2023-07-21T11:54:39.292881Z",
     "shell.execute_reply": "2023-07-21T11:54:39.291783Z"
    },
    "papermill": {
     "duration": 0.180498,
     "end_time": "2023-07-21T11:54:39.296197",
     "exception": false,
     "start_time": "2023-07-21T11:54:39.115699",
     "status": "completed"
    },
    "tags": []
   },
   "outputs": [
    {
     "name": "stdout",
     "output_type": "stream",
     "text": [
      "8828 \n",
      "\n"
     ]
    },
    {
     "data": {
      "text/html": [
       "<div>\n",
       "<style scoped>\n",
       "    .dataframe tbody tr th:only-of-type {\n",
       "        vertical-align: middle;\n",
       "    }\n",
       "\n",
       "    .dataframe tbody tr th {\n",
       "        vertical-align: top;\n",
       "    }\n",
       "\n",
       "    .dataframe thead th {\n",
       "        text-align: right;\n",
       "    }\n",
       "</style>\n",
       "<table border=\"1\" class=\"dataframe\">\n",
       "  <thead>\n",
       "    <tr style=\"text-align: right;\">\n",
       "      <th></th>\n",
       "      <th>InvoiceNo</th>\n",
       "      <th>StockCode</th>\n",
       "      <th>Description</th>\n",
       "      <th>Quantity</th>\n",
       "      <th>InvoiceDate</th>\n",
       "      <th>UnitPrice</th>\n",
       "      <th>CustomerID</th>\n",
       "      <th>Country</th>\n",
       "    </tr>\n",
       "  </thead>\n",
       "  <tbody>\n",
       "    <tr>\n",
       "      <th>154</th>\n",
       "      <td>C536383</td>\n",
       "      <td>35004C</td>\n",
       "      <td>SET OF 3 COLOURED  FLYING DUCKS</td>\n",
       "      <td>-1</td>\n",
       "      <td>01-12-2010 09:49</td>\n",
       "      <td>4.65</td>\n",
       "      <td>15311.0</td>\n",
       "      <td>United Kingdom</td>\n",
       "    </tr>\n",
       "    <tr>\n",
       "      <th>235</th>\n",
       "      <td>C536391</td>\n",
       "      <td>22556</td>\n",
       "      <td>PLASTERS IN TIN CIRCUS PARADE</td>\n",
       "      <td>-12</td>\n",
       "      <td>01-12-2010 10:24</td>\n",
       "      <td>1.65</td>\n",
       "      <td>17548.0</td>\n",
       "      <td>United Kingdom</td>\n",
       "    </tr>\n",
       "    <tr>\n",
       "      <th>236</th>\n",
       "      <td>C536391</td>\n",
       "      <td>21984</td>\n",
       "      <td>PACK OF 12 PINK PAISLEY TISSUES</td>\n",
       "      <td>-24</td>\n",
       "      <td>01-12-2010 10:24</td>\n",
       "      <td>0.29</td>\n",
       "      <td>17548.0</td>\n",
       "      <td>United Kingdom</td>\n",
       "    </tr>\n",
       "    <tr>\n",
       "      <th>237</th>\n",
       "      <td>C536391</td>\n",
       "      <td>21983</td>\n",
       "      <td>PACK OF 12 BLUE PAISLEY TISSUES</td>\n",
       "      <td>-24</td>\n",
       "      <td>01-12-2010 10:24</td>\n",
       "      <td>0.29</td>\n",
       "      <td>17548.0</td>\n",
       "      <td>United Kingdom</td>\n",
       "    </tr>\n",
       "  </tbody>\n",
       "</table>\n",
       "</div>"
      ],
      "text/plain": [
       "    InvoiceNo StockCode                       Description  Quantity  \\\n",
       "154   C536383    35004C   SET OF 3 COLOURED  FLYING DUCKS        -1   \n",
       "235   C536391     22556    PLASTERS IN TIN CIRCUS PARADE        -12   \n",
       "236   C536391     21984  PACK OF 12 PINK PAISLEY TISSUES        -24   \n",
       "237   C536391     21983  PACK OF 12 BLUE PAISLEY TISSUES        -24   \n",
       "\n",
       "          InvoiceDate  UnitPrice  CustomerID         Country  \n",
       "154  01-12-2010 09:49       4.65     15311.0  United Kingdom  \n",
       "235  01-12-2010 10:24       1.65     17548.0  United Kingdom  \n",
       "236  01-12-2010 10:24       0.29     17548.0  United Kingdom  \n",
       "237  01-12-2010 10:24       0.29     17548.0  United Kingdom  "
      ]
     },
     "execution_count": 7,
     "metadata": {},
     "output_type": "execute_result"
    }
   ],
   "source": [
    "#products with negative qty, other than discount\n",
    "len= df[(df.Quantity < 0) & (df.StockCode != 'D')].shape[0]\n",
    "print(len,'\\n')\n",
    "df[(df.Quantity < 0) & (df.StockCode != 'D')][:4]"
   ]
  },
  {
   "cell_type": "markdown",
   "id": "60b6fa6a",
   "metadata": {
    "papermill": {
     "duration": 0.017108,
     "end_time": "2023-07-21T11:54:39.331018",
     "exception": false,
     "start_time": "2023-07-21T11:54:39.313910",
     "status": "completed"
    },
    "tags": []
   },
   "source": [
    "**Observation:**\n",
    "* There are 8828 invoices with Negative qty and not in discount StockCode.\n",
    "* This may be due to manual error, so we ll do negative to positive convertion."
   ]
  },
  {
   "cell_type": "code",
   "execution_count": 8,
   "id": "d12dc29d",
   "metadata": {
    "execution": {
     "iopub.execute_input": "2023-07-21T11:54:39.366526Z",
     "iopub.status.busy": "2023-07-21T11:54:39.366144Z",
     "iopub.status.idle": "2023-07-21T11:54:39.541498Z",
     "shell.execute_reply": "2023-07-21T11:54:39.540417Z"
    },
    "papermill": {
     "duration": 0.19604,
     "end_time": "2023-07-21T11:54:39.543897",
     "exception": false,
     "start_time": "2023-07-21T11:54:39.347857",
     "status": "completed"
    },
    "tags": []
   },
   "outputs": [
    {
     "data": {
      "text/plain": [
       "(0, 8)"
      ]
     },
     "execution_count": 8,
     "metadata": {},
     "output_type": "execute_result"
    }
   ],
   "source": [
    "#value convertion.\n",
    "index= list(df[(df.Quantity < 0) & (df.StockCode != 'D')].index)\n",
    "df.loc[index,'Quantity'] = df.loc[index,'Quantity'] * -1\n",
    "df[(df.Quantity < 0) & (df.StockCode != 'D')].shape"
   ]
  },
  {
   "cell_type": "code",
   "execution_count": 9,
   "id": "34b19a99",
   "metadata": {
    "execution": {
     "iopub.execute_input": "2023-07-21T11:54:39.581248Z",
     "iopub.status.busy": "2023-07-21T11:54:39.580362Z",
     "iopub.status.idle": "2023-07-21T11:54:39.600741Z",
     "shell.execute_reply": "2023-07-21T11:54:39.599655Z"
    },
    "papermill": {
     "duration": 0.041475,
     "end_time": "2023-07-21T11:54:39.603150",
     "exception": false,
     "start_time": "2023-07-21T11:54:39.561675",
     "status": "completed"
    },
    "tags": []
   },
   "outputs": [
    {
     "data": {
      "text/html": [
       "<div>\n",
       "<style scoped>\n",
       "    .dataframe tbody tr th:only-of-type {\n",
       "        vertical-align: middle;\n",
       "    }\n",
       "\n",
       "    .dataframe tbody tr th {\n",
       "        vertical-align: top;\n",
       "    }\n",
       "\n",
       "    .dataframe thead th {\n",
       "        text-align: right;\n",
       "    }\n",
       "</style>\n",
       "<table border=\"1\" class=\"dataframe\">\n",
       "  <thead>\n",
       "    <tr style=\"text-align: right;\">\n",
       "      <th></th>\n",
       "      <th>InvoiceNo</th>\n",
       "      <th>StockCode</th>\n",
       "      <th>Description</th>\n",
       "      <th>Quantity</th>\n",
       "      <th>InvoiceDate</th>\n",
       "      <th>UnitPrice</th>\n",
       "      <th>CustomerID</th>\n",
       "      <th>Country</th>\n",
       "      <th>amount</th>\n",
       "    </tr>\n",
       "  </thead>\n",
       "  <tbody>\n",
       "    <tr>\n",
       "      <th>0</th>\n",
       "      <td>536365</td>\n",
       "      <td>85123A</td>\n",
       "      <td>WHITE HANGING HEART T-LIGHT HOLDER</td>\n",
       "      <td>6</td>\n",
       "      <td>01-12-2010 08:26</td>\n",
       "      <td>2.55</td>\n",
       "      <td>17850.0</td>\n",
       "      <td>United Kingdom</td>\n",
       "      <td>15.30</td>\n",
       "    </tr>\n",
       "    <tr>\n",
       "      <th>1</th>\n",
       "      <td>536365</td>\n",
       "      <td>71053</td>\n",
       "      <td>WHITE METAL LANTERN</td>\n",
       "      <td>6</td>\n",
       "      <td>01-12-2010 08:26</td>\n",
       "      <td>3.39</td>\n",
       "      <td>17850.0</td>\n",
       "      <td>United Kingdom</td>\n",
       "      <td>20.34</td>\n",
       "    </tr>\n",
       "    <tr>\n",
       "      <th>2</th>\n",
       "      <td>536365</td>\n",
       "      <td>84406B</td>\n",
       "      <td>CREAM CUPID HEARTS COAT HANGER</td>\n",
       "      <td>8</td>\n",
       "      <td>01-12-2010 08:26</td>\n",
       "      <td>2.75</td>\n",
       "      <td>17850.0</td>\n",
       "      <td>United Kingdom</td>\n",
       "      <td>22.00</td>\n",
       "    </tr>\n",
       "    <tr>\n",
       "      <th>3</th>\n",
       "      <td>536365</td>\n",
       "      <td>84029G</td>\n",
       "      <td>KNITTED UNION FLAG HOT WATER BOTTLE</td>\n",
       "      <td>6</td>\n",
       "      <td>01-12-2010 08:26</td>\n",
       "      <td>3.39</td>\n",
       "      <td>17850.0</td>\n",
       "      <td>United Kingdom</td>\n",
       "      <td>20.34</td>\n",
       "    </tr>\n",
       "  </tbody>\n",
       "</table>\n",
       "</div>"
      ],
      "text/plain": [
       "  InvoiceNo StockCode                          Description  Quantity  \\\n",
       "0    536365    85123A   WHITE HANGING HEART T-LIGHT HOLDER         6   \n",
       "1    536365     71053                  WHITE METAL LANTERN         6   \n",
       "2    536365    84406B       CREAM CUPID HEARTS COAT HANGER         8   \n",
       "3    536365    84029G  KNITTED UNION FLAG HOT WATER BOTTLE         6   \n",
       "\n",
       "        InvoiceDate  UnitPrice  CustomerID         Country  amount  \n",
       "0  01-12-2010 08:26       2.55     17850.0  United Kingdom   15.30  \n",
       "1  01-12-2010 08:26       3.39     17850.0  United Kingdom   20.34  \n",
       "2  01-12-2010 08:26       2.75     17850.0  United Kingdom   22.00  \n",
       "3  01-12-2010 08:26       3.39     17850.0  United Kingdom   20.34  "
      ]
     },
     "execution_count": 9,
     "metadata": {},
     "output_type": "execute_result"
    }
   ],
   "source": [
    "#creating new var 'amount'\n",
    "df['amount']= df.Quantity * df.UnitPrice\n",
    "df[:4]"
   ]
  },
  {
   "cell_type": "markdown",
   "id": "4976a9c4",
   "metadata": {
    "papermill": {
     "duration": 0.017596,
     "end_time": "2023-07-21T11:54:39.638564",
     "exception": false,
     "start_time": "2023-07-21T11:54:39.620968",
     "status": "completed"
    },
    "tags": []
   },
   "source": [
    "### Monetory Value"
   ]
  },
  {
   "cell_type": "code",
   "execution_count": 10,
   "id": "7b8bc139",
   "metadata": {
    "execution": {
     "iopub.execute_input": "2023-07-21T11:54:39.676232Z",
     "iopub.status.busy": "2023-07-21T11:54:39.675504Z",
     "iopub.status.idle": "2023-07-21T11:54:39.714229Z",
     "shell.execute_reply": "2023-07-21T11:54:39.713411Z"
    },
    "papermill": {
     "duration": 0.060851,
     "end_time": "2023-07-21T11:54:39.716932",
     "exception": false,
     "start_time": "2023-07-21T11:54:39.656081",
     "status": "completed"
    },
    "tags": []
   },
   "outputs": [
    {
     "name": "stdout",
     "output_type": "stream",
     "text": [
      "shape of df_cust is: (4372, 2)\n",
      "\n"
     ]
    },
    {
     "data": {
      "text/html": [
       "<div>\n",
       "<style scoped>\n",
       "    .dataframe tbody tr th:only-of-type {\n",
       "        vertical-align: middle;\n",
       "    }\n",
       "\n",
       "    .dataframe tbody tr th {\n",
       "        vertical-align: top;\n",
       "    }\n",
       "\n",
       "    .dataframe thead th {\n",
       "        text-align: right;\n",
       "    }\n",
       "</style>\n",
       "<table border=\"1\" class=\"dataframe\">\n",
       "  <thead>\n",
       "    <tr style=\"text-align: right;\">\n",
       "      <th></th>\n",
       "      <th>CustomerID</th>\n",
       "      <th>amount</th>\n",
       "    </tr>\n",
       "  </thead>\n",
       "  <tbody>\n",
       "    <tr>\n",
       "      <th>0</th>\n",
       "      <td>12346</td>\n",
       "      <td>154367.20</td>\n",
       "    </tr>\n",
       "    <tr>\n",
       "      <th>1</th>\n",
       "      <td>12347</td>\n",
       "      <td>4310.00</td>\n",
       "    </tr>\n",
       "    <tr>\n",
       "      <th>2</th>\n",
       "      <td>12348</td>\n",
       "      <td>1797.24</td>\n",
       "    </tr>\n",
       "    <tr>\n",
       "      <th>3</th>\n",
       "      <td>12349</td>\n",
       "      <td>1757.55</td>\n",
       "    </tr>\n",
       "  </tbody>\n",
       "</table>\n",
       "</div>"
      ],
      "text/plain": [
       "   CustomerID     amount\n",
       "0       12346  154367.20\n",
       "1       12347    4310.00\n",
       "2       12348    1797.24\n",
       "3       12349    1757.55"
      ]
     },
     "execution_count": 10,
     "metadata": {},
     "output_type": "execute_result"
    }
   ],
   "source": [
    "#Monetory value\n",
    "df_cust= df.groupby(by='CustomerID')['amount'].sum()\n",
    "df_cust= df_cust.reset_index()\n",
    "df_cust.CustomerID= df_cust.CustomerID.astype('int64')\n",
    "print('shape of df_cust is: {}\\n'.format(df_cust.shape))\n",
    "df_cust[:4]"
   ]
  },
  {
   "cell_type": "markdown",
   "id": "0c7c3a17",
   "metadata": {
    "papermill": {
     "duration": 0.017278,
     "end_time": "2023-07-21T11:54:39.752332",
     "exception": false,
     "start_time": "2023-07-21T11:54:39.735054",
     "status": "completed"
    },
    "tags": []
   },
   "source": [
    "### Frequency"
   ]
  },
  {
   "cell_type": "code",
   "execution_count": 11,
   "id": "831f2ce8",
   "metadata": {
    "execution": {
     "iopub.execute_input": "2023-07-21T11:54:39.789827Z",
     "iopub.status.busy": "2023-07-21T11:54:39.789187Z",
     "iopub.status.idle": "2023-07-21T11:54:39.855564Z",
     "shell.execute_reply": "2023-07-21T11:54:39.854747Z"
    },
    "papermill": {
     "duration": 0.087427,
     "end_time": "2023-07-21T11:54:39.857431",
     "exception": false,
     "start_time": "2023-07-21T11:54:39.770004",
     "status": "completed"
    },
    "tags": []
   },
   "outputs": [
    {
     "name": "stdout",
     "output_type": "stream",
     "text": [
      "shape of df_freq is: (4372, 2)\n",
      "\n"
     ]
    },
    {
     "data": {
      "text/html": [
       "<div>\n",
       "<style scoped>\n",
       "    .dataframe tbody tr th:only-of-type {\n",
       "        vertical-align: middle;\n",
       "    }\n",
       "\n",
       "    .dataframe tbody tr th {\n",
       "        vertical-align: top;\n",
       "    }\n",
       "\n",
       "    .dataframe thead th {\n",
       "        text-align: right;\n",
       "    }\n",
       "</style>\n",
       "<table border=\"1\" class=\"dataframe\">\n",
       "  <thead>\n",
       "    <tr style=\"text-align: right;\">\n",
       "      <th></th>\n",
       "      <th>CustomerID</th>\n",
       "      <th>Frequency</th>\n",
       "    </tr>\n",
       "  </thead>\n",
       "  <tbody>\n",
       "    <tr>\n",
       "      <th>0</th>\n",
       "      <td>12346</td>\n",
       "      <td>2</td>\n",
       "    </tr>\n",
       "    <tr>\n",
       "      <th>1</th>\n",
       "      <td>12347</td>\n",
       "      <td>182</td>\n",
       "    </tr>\n",
       "    <tr>\n",
       "      <th>2</th>\n",
       "      <td>12348</td>\n",
       "      <td>31</td>\n",
       "    </tr>\n",
       "    <tr>\n",
       "      <th>3</th>\n",
       "      <td>12349</td>\n",
       "      <td>73</td>\n",
       "    </tr>\n",
       "  </tbody>\n",
       "</table>\n",
       "</div>"
      ],
      "text/plain": [
       "   CustomerID  Frequency\n",
       "0       12346          2\n",
       "1       12347        182\n",
       "2       12348         31\n",
       "3       12349         73"
      ]
     },
     "execution_count": 11,
     "metadata": {},
     "output_type": "execute_result"
    }
   ],
   "source": [
    "#frequency\n",
    "df_freq= df.groupby(by='CustomerID')['InvoiceNo'].count()\n",
    "df_freq= df_freq.reset_index()\n",
    "df_freq.columns= ['CustomerID','Frequency']\n",
    "df_freq.CustomerID= df_freq.CustomerID.astype('int64')\n",
    "print('shape of df_freq is: {}\\n'.format(df_cust.shape))\n",
    "df_freq[:4]"
   ]
  },
  {
   "cell_type": "code",
   "execution_count": 12,
   "id": "fb0ce9d3",
   "metadata": {
    "execution": {
     "iopub.execute_input": "2023-07-21T11:54:39.896160Z",
     "iopub.status.busy": "2023-07-21T11:54:39.895292Z",
     "iopub.status.idle": "2023-07-21T11:54:39.917444Z",
     "shell.execute_reply": "2023-07-21T11:54:39.916312Z"
    },
    "papermill": {
     "duration": 0.044221,
     "end_time": "2023-07-21T11:54:39.919659",
     "exception": false,
     "start_time": "2023-07-21T11:54:39.875438",
     "status": "completed"
    },
    "tags": []
   },
   "outputs": [
    {
     "data": {
      "text/html": [
       "<div>\n",
       "<style scoped>\n",
       "    .dataframe tbody tr th:only-of-type {\n",
       "        vertical-align: middle;\n",
       "    }\n",
       "\n",
       "    .dataframe tbody tr th {\n",
       "        vertical-align: top;\n",
       "    }\n",
       "\n",
       "    .dataframe thead th {\n",
       "        text-align: right;\n",
       "    }\n",
       "</style>\n",
       "<table border=\"1\" class=\"dataframe\">\n",
       "  <thead>\n",
       "    <tr style=\"text-align: right;\">\n",
       "      <th></th>\n",
       "      <th>CustomerID</th>\n",
       "      <th>Frequency</th>\n",
       "      <th>amount</th>\n",
       "    </tr>\n",
       "  </thead>\n",
       "  <tbody>\n",
       "    <tr>\n",
       "      <th>0</th>\n",
       "      <td>12346</td>\n",
       "      <td>2</td>\n",
       "      <td>154367.20</td>\n",
       "    </tr>\n",
       "    <tr>\n",
       "      <th>1</th>\n",
       "      <td>12347</td>\n",
       "      <td>182</td>\n",
       "      <td>4310.00</td>\n",
       "    </tr>\n",
       "    <tr>\n",
       "      <th>2</th>\n",
       "      <td>12348</td>\n",
       "      <td>31</td>\n",
       "      <td>1797.24</td>\n",
       "    </tr>\n",
       "    <tr>\n",
       "      <th>3</th>\n",
       "      <td>12349</td>\n",
       "      <td>73</td>\n",
       "      <td>1757.55</td>\n",
       "    </tr>\n",
       "  </tbody>\n",
       "</table>\n",
       "</div>"
      ],
      "text/plain": [
       "   CustomerID  Frequency     amount\n",
       "0       12346          2  154367.20\n",
       "1       12347        182    4310.00\n",
       "2       12348         31    1797.24\n",
       "3       12349         73    1757.55"
      ]
     },
     "execution_count": 12,
     "metadata": {},
     "output_type": "execute_result"
    }
   ],
   "source": [
    "#merging monetory value and frequency.\n",
    "df_con1= pd.merge(right= df_cust, left= df_freq, on= 'CustomerID', how= 'inner')\n",
    "df_con1[:4]"
   ]
  },
  {
   "cell_type": "code",
   "execution_count": 13,
   "id": "d798d18a",
   "metadata": {
    "execution": {
     "iopub.execute_input": "2023-07-21T11:54:39.959354Z",
     "iopub.status.busy": "2023-07-21T11:54:39.958955Z",
     "iopub.status.idle": "2023-07-21T11:54:39.966264Z",
     "shell.execute_reply": "2023-07-21T11:54:39.965062Z"
    },
    "papermill": {
     "duration": 0.029858,
     "end_time": "2023-07-21T11:54:39.968501",
     "exception": false,
     "start_time": "2023-07-21T11:54:39.938643",
     "status": "completed"
    },
    "tags": []
   },
   "outputs": [
    {
     "data": {
      "text/plain": [
       "dtype('O')"
      ]
     },
     "execution_count": 13,
     "metadata": {},
     "output_type": "execute_result"
    }
   ],
   "source": [
    "df.InvoiceDate.dtype"
   ]
  },
  {
   "cell_type": "code",
   "execution_count": 14,
   "id": "9dfd1bc6",
   "metadata": {
    "execution": {
     "iopub.execute_input": "2023-07-21T11:54:40.008063Z",
     "iopub.status.busy": "2023-07-21T11:54:40.007708Z",
     "iopub.status.idle": "2023-07-21T11:54:40.231297Z",
     "shell.execute_reply": "2023-07-21T11:54:40.230279Z"
    },
    "papermill": {
     "duration": 0.245853,
     "end_time": "2023-07-21T11:54:40.233391",
     "exception": false,
     "start_time": "2023-07-21T11:54:39.987538",
     "status": "completed"
    },
    "tags": []
   },
   "outputs": [
    {
     "data": {
      "text/html": [
       "<div>\n",
       "<style scoped>\n",
       "    .dataframe tbody tr th:only-of-type {\n",
       "        vertical-align: middle;\n",
       "    }\n",
       "\n",
       "    .dataframe tbody tr th {\n",
       "        vertical-align: top;\n",
       "    }\n",
       "\n",
       "    .dataframe thead th {\n",
       "        text-align: right;\n",
       "    }\n",
       "</style>\n",
       "<table border=\"1\" class=\"dataframe\">\n",
       "  <thead>\n",
       "    <tr style=\"text-align: right;\">\n",
       "      <th></th>\n",
       "      <th>InvoiceNo</th>\n",
       "      <th>StockCode</th>\n",
       "      <th>Description</th>\n",
       "      <th>Quantity</th>\n",
       "      <th>InvoiceDate</th>\n",
       "      <th>UnitPrice</th>\n",
       "      <th>CustomerID</th>\n",
       "      <th>Country</th>\n",
       "      <th>amount</th>\n",
       "    </tr>\n",
       "  </thead>\n",
       "  <tbody>\n",
       "    <tr>\n",
       "      <th>0</th>\n",
       "      <td>536365</td>\n",
       "      <td>85123A</td>\n",
       "      <td>WHITE HANGING HEART T-LIGHT HOLDER</td>\n",
       "      <td>6</td>\n",
       "      <td>2010-12-01 08:26:00</td>\n",
       "      <td>2.55</td>\n",
       "      <td>17850.0</td>\n",
       "      <td>United Kingdom</td>\n",
       "      <td>15.30</td>\n",
       "    </tr>\n",
       "    <tr>\n",
       "      <th>1</th>\n",
       "      <td>536365</td>\n",
       "      <td>71053</td>\n",
       "      <td>WHITE METAL LANTERN</td>\n",
       "      <td>6</td>\n",
       "      <td>2010-12-01 08:26:00</td>\n",
       "      <td>3.39</td>\n",
       "      <td>17850.0</td>\n",
       "      <td>United Kingdom</td>\n",
       "      <td>20.34</td>\n",
       "    </tr>\n",
       "    <tr>\n",
       "      <th>2</th>\n",
       "      <td>536365</td>\n",
       "      <td>84406B</td>\n",
       "      <td>CREAM CUPID HEARTS COAT HANGER</td>\n",
       "      <td>8</td>\n",
       "      <td>2010-12-01 08:26:00</td>\n",
       "      <td>2.75</td>\n",
       "      <td>17850.0</td>\n",
       "      <td>United Kingdom</td>\n",
       "      <td>22.00</td>\n",
       "    </tr>\n",
       "    <tr>\n",
       "      <th>3</th>\n",
       "      <td>536365</td>\n",
       "      <td>84029G</td>\n",
       "      <td>KNITTED UNION FLAG HOT WATER BOTTLE</td>\n",
       "      <td>6</td>\n",
       "      <td>2010-12-01 08:26:00</td>\n",
       "      <td>3.39</td>\n",
       "      <td>17850.0</td>\n",
       "      <td>United Kingdom</td>\n",
       "      <td>20.34</td>\n",
       "    </tr>\n",
       "  </tbody>\n",
       "</table>\n",
       "</div>"
      ],
      "text/plain": [
       "  InvoiceNo StockCode                          Description  Quantity  \\\n",
       "0    536365    85123A   WHITE HANGING HEART T-LIGHT HOLDER         6   \n",
       "1    536365     71053                  WHITE METAL LANTERN         6   \n",
       "2    536365    84406B       CREAM CUPID HEARTS COAT HANGER         8   \n",
       "3    536365    84029G  KNITTED UNION FLAG HOT WATER BOTTLE         6   \n",
       "\n",
       "          InvoiceDate  UnitPrice  CustomerID         Country  amount  \n",
       "0 2010-12-01 08:26:00       2.55     17850.0  United Kingdom   15.30  \n",
       "1 2010-12-01 08:26:00       3.39     17850.0  United Kingdom   20.34  \n",
       "2 2010-12-01 08:26:00       2.75     17850.0  United Kingdom   22.00  \n",
       "3 2010-12-01 08:26:00       3.39     17850.0  United Kingdom   20.34  "
      ]
     },
     "execution_count": 14,
     "metadata": {},
     "output_type": "execute_result"
    }
   ],
   "source": [
    "#converting data type of InvoiceDate to time format.\n",
    "df.InvoiceDate= pd.to_datetime(df.InvoiceDate, format= '%d-%m-%Y %H:%M')\n",
    "df[:4]"
   ]
  },
  {
   "cell_type": "code",
   "execution_count": 15,
   "id": "5cfbcdce",
   "metadata": {
    "execution": {
     "iopub.execute_input": "2023-07-21T11:54:40.272780Z",
     "iopub.status.busy": "2023-07-21T11:54:40.271899Z",
     "iopub.status.idle": "2023-07-21T11:54:40.279434Z",
     "shell.execute_reply": "2023-07-21T11:54:40.278449Z"
    },
    "papermill": {
     "duration": 0.02955,
     "end_time": "2023-07-21T11:54:40.281378",
     "exception": false,
     "start_time": "2023-07-21T11:54:40.251828",
     "status": "completed"
    },
    "tags": []
   },
   "outputs": [
    {
     "data": {
      "text/plain": [
       "Timestamp('2011-12-09 12:50:00')"
      ]
     },
     "execution_count": 15,
     "metadata": {},
     "output_type": "execute_result"
    }
   ],
   "source": [
    "#last invoice date\n",
    "df.InvoiceDate.max()"
   ]
  },
  {
   "cell_type": "markdown",
   "id": "9724de20",
   "metadata": {
    "papermill": {
     "duration": 0.019043,
     "end_time": "2023-07-21T11:54:40.319765",
     "exception": false,
     "start_time": "2023-07-21T11:54:40.300722",
     "status": "completed"
    },
    "tags": []
   },
   "source": [
    "To find recency we need to first compute diff days from last date."
   ]
  },
  {
   "cell_type": "code",
   "execution_count": 16,
   "id": "9644f244",
   "metadata": {
    "execution": {
     "iopub.execute_input": "2023-07-21T11:54:40.359920Z",
     "iopub.status.busy": "2023-07-21T11:54:40.359559Z",
     "iopub.status.idle": "2023-07-21T11:54:40.381714Z",
     "shell.execute_reply": "2023-07-21T11:54:40.380804Z"
    },
    "papermill": {
     "duration": 0.045093,
     "end_time": "2023-07-21T11:54:40.383942",
     "exception": false,
     "start_time": "2023-07-21T11:54:40.338849",
     "status": "completed"
    },
    "tags": []
   },
   "outputs": [
    {
     "data": {
      "text/html": [
       "<div>\n",
       "<style scoped>\n",
       "    .dataframe tbody tr th:only-of-type {\n",
       "        vertical-align: middle;\n",
       "    }\n",
       "\n",
       "    .dataframe tbody tr th {\n",
       "        vertical-align: top;\n",
       "    }\n",
       "\n",
       "    .dataframe thead th {\n",
       "        text-align: right;\n",
       "    }\n",
       "</style>\n",
       "<table border=\"1\" class=\"dataframe\">\n",
       "  <thead>\n",
       "    <tr style=\"text-align: right;\">\n",
       "      <th></th>\n",
       "      <th>InvoiceNo</th>\n",
       "      <th>StockCode</th>\n",
       "      <th>Description</th>\n",
       "      <th>Quantity</th>\n",
       "      <th>InvoiceDate</th>\n",
       "      <th>UnitPrice</th>\n",
       "      <th>CustomerID</th>\n",
       "      <th>Country</th>\n",
       "      <th>amount</th>\n",
       "      <th>days_difference</th>\n",
       "    </tr>\n",
       "  </thead>\n",
       "  <tbody>\n",
       "    <tr>\n",
       "      <th>0</th>\n",
       "      <td>536365</td>\n",
       "      <td>85123A</td>\n",
       "      <td>WHITE HANGING HEART T-LIGHT HOLDER</td>\n",
       "      <td>6</td>\n",
       "      <td>2010-12-01 08:26:00</td>\n",
       "      <td>2.55</td>\n",
       "      <td>17850.0</td>\n",
       "      <td>United Kingdom</td>\n",
       "      <td>15.30</td>\n",
       "      <td>373 days 04:24:00</td>\n",
       "    </tr>\n",
       "    <tr>\n",
       "      <th>1</th>\n",
       "      <td>536365</td>\n",
       "      <td>71053</td>\n",
       "      <td>WHITE METAL LANTERN</td>\n",
       "      <td>6</td>\n",
       "      <td>2010-12-01 08:26:00</td>\n",
       "      <td>3.39</td>\n",
       "      <td>17850.0</td>\n",
       "      <td>United Kingdom</td>\n",
       "      <td>20.34</td>\n",
       "      <td>373 days 04:24:00</td>\n",
       "    </tr>\n",
       "    <tr>\n",
       "      <th>2</th>\n",
       "      <td>536365</td>\n",
       "      <td>84406B</td>\n",
       "      <td>CREAM CUPID HEARTS COAT HANGER</td>\n",
       "      <td>8</td>\n",
       "      <td>2010-12-01 08:26:00</td>\n",
       "      <td>2.75</td>\n",
       "      <td>17850.0</td>\n",
       "      <td>United Kingdom</td>\n",
       "      <td>22.00</td>\n",
       "      <td>373 days 04:24:00</td>\n",
       "    </tr>\n",
       "    <tr>\n",
       "      <th>3</th>\n",
       "      <td>536365</td>\n",
       "      <td>84029G</td>\n",
       "      <td>KNITTED UNION FLAG HOT WATER BOTTLE</td>\n",
       "      <td>6</td>\n",
       "      <td>2010-12-01 08:26:00</td>\n",
       "      <td>3.39</td>\n",
       "      <td>17850.0</td>\n",
       "      <td>United Kingdom</td>\n",
       "      <td>20.34</td>\n",
       "      <td>373 days 04:24:00</td>\n",
       "    </tr>\n",
       "  </tbody>\n",
       "</table>\n",
       "</div>"
      ],
      "text/plain": [
       "  InvoiceNo StockCode                          Description  Quantity  \\\n",
       "0    536365    85123A   WHITE HANGING HEART T-LIGHT HOLDER         6   \n",
       "1    536365     71053                  WHITE METAL LANTERN         6   \n",
       "2    536365    84406B       CREAM CUPID HEARTS COAT HANGER         8   \n",
       "3    536365    84029G  KNITTED UNION FLAG HOT WATER BOTTLE         6   \n",
       "\n",
       "          InvoiceDate  UnitPrice  CustomerID         Country  amount  \\\n",
       "0 2010-12-01 08:26:00       2.55     17850.0  United Kingdom   15.30   \n",
       "1 2010-12-01 08:26:00       3.39     17850.0  United Kingdom   20.34   \n",
       "2 2010-12-01 08:26:00       2.75     17850.0  United Kingdom   22.00   \n",
       "3 2010-12-01 08:26:00       3.39     17850.0  United Kingdom   20.34   \n",
       "\n",
       "    days_difference  \n",
       "0 373 days 04:24:00  \n",
       "1 373 days 04:24:00  \n",
       "2 373 days 04:24:00  \n",
       "3 373 days 04:24:00  "
      ]
     },
     "execution_count": 16,
     "metadata": {},
     "output_type": "execute_result"
    }
   ],
   "source": [
    "#computing diff days\n",
    "df['days_difference']= df['InvoiceDate'].max() - df['InvoiceDate']\n",
    "df[:4]"
   ]
  },
  {
   "cell_type": "markdown",
   "id": "cbbea9fb",
   "metadata": {
    "papermill": {
     "duration": 0.018139,
     "end_time": "2023-07-21T11:54:40.420863",
     "exception": false,
     "start_time": "2023-07-21T11:54:40.402724",
     "status": "completed"
    },
    "tags": []
   },
   "source": [
    "### Recency"
   ]
  },
  {
   "cell_type": "code",
   "execution_count": 17,
   "id": "dd3f9366",
   "metadata": {
    "execution": {
     "iopub.execute_input": "2023-07-21T11:54:40.460424Z",
     "iopub.status.busy": "2023-07-21T11:54:40.459738Z",
     "iopub.status.idle": "2023-07-21T11:54:40.502227Z",
     "shell.execute_reply": "2023-07-21T11:54:40.501114Z"
    },
    "papermill": {
     "duration": 0.064624,
     "end_time": "2023-07-21T11:54:40.504522",
     "exception": false,
     "start_time": "2023-07-21T11:54:40.439898",
     "status": "completed"
    },
    "tags": []
   },
   "outputs": [
    {
     "name": "stdout",
     "output_type": "stream",
     "text": [
      "shape of df_rec is: (4372, 2)\n",
      "\n"
     ]
    },
    {
     "data": {
      "text/html": [
       "<div>\n",
       "<style scoped>\n",
       "    .dataframe tbody tr th:only-of-type {\n",
       "        vertical-align: middle;\n",
       "    }\n",
       "\n",
       "    .dataframe tbody tr th {\n",
       "        vertical-align: top;\n",
       "    }\n",
       "\n",
       "    .dataframe thead th {\n",
       "        text-align: right;\n",
       "    }\n",
       "</style>\n",
       "<table border=\"1\" class=\"dataframe\">\n",
       "  <thead>\n",
       "    <tr style=\"text-align: right;\">\n",
       "      <th></th>\n",
       "      <th>CustomerID</th>\n",
       "      <th>recency_days</th>\n",
       "    </tr>\n",
       "  </thead>\n",
       "  <tbody>\n",
       "    <tr>\n",
       "      <th>0</th>\n",
       "      <td>12346</td>\n",
       "      <td>325</td>\n",
       "    </tr>\n",
       "    <tr>\n",
       "      <th>1</th>\n",
       "      <td>12347</td>\n",
       "      <td>1</td>\n",
       "    </tr>\n",
       "    <tr>\n",
       "      <th>2</th>\n",
       "      <td>12348</td>\n",
       "      <td>74</td>\n",
       "    </tr>\n",
       "    <tr>\n",
       "      <th>3</th>\n",
       "      <td>12349</td>\n",
       "      <td>18</td>\n",
       "    </tr>\n",
       "  </tbody>\n",
       "</table>\n",
       "</div>"
      ],
      "text/plain": [
       "   CustomerID  recency_days\n",
       "0       12346           325\n",
       "1       12347             1\n",
       "2       12348            74\n",
       "3       12349            18"
      ]
     },
     "execution_count": 17,
     "metadata": {},
     "output_type": "execute_result"
    }
   ],
   "source": [
    "#recency\n",
    "import datetime as dt\n",
    "\n",
    "df_rec= df.groupby(by='CustomerID')['days_difference'].min()\n",
    "df_rec= df_rec.reset_index()\n",
    "df_rec.columns= ['CustomerID','recency_days']\n",
    "df_rec.CustomerID= df_rec.CustomerID.astype('int64')\n",
    "\n",
    "#extracting only days\n",
    "df_rec.recency_days= df_rec.recency_days.dt.days\n",
    "print('shape of df_rec is: {}\\n'.format(df_rec.shape))\n",
    "df_rec[:4]"
   ]
  },
  {
   "cell_type": "code",
   "execution_count": 18,
   "id": "b3ba7457",
   "metadata": {
    "execution": {
     "iopub.execute_input": "2023-07-21T11:54:40.547578Z",
     "iopub.status.busy": "2023-07-21T11:54:40.546616Z",
     "iopub.status.idle": "2023-07-21T11:54:40.562469Z",
     "shell.execute_reply": "2023-07-21T11:54:40.560992Z"
    },
    "papermill": {
     "duration": 0.039287,
     "end_time": "2023-07-21T11:54:40.564847",
     "exception": false,
     "start_time": "2023-07-21T11:54:40.525560",
     "status": "completed"
    },
    "tags": []
   },
   "outputs": [
    {
     "data": {
      "text/html": [
       "<div>\n",
       "<style scoped>\n",
       "    .dataframe tbody tr th:only-of-type {\n",
       "        vertical-align: middle;\n",
       "    }\n",
       "\n",
       "    .dataframe tbody tr th {\n",
       "        vertical-align: top;\n",
       "    }\n",
       "\n",
       "    .dataframe thead th {\n",
       "        text-align: right;\n",
       "    }\n",
       "</style>\n",
       "<table border=\"1\" class=\"dataframe\">\n",
       "  <thead>\n",
       "    <tr style=\"text-align: right;\">\n",
       "      <th></th>\n",
       "      <th>CustomerID</th>\n",
       "      <th>recency_days</th>\n",
       "      <th>Frequency</th>\n",
       "      <th>amount</th>\n",
       "    </tr>\n",
       "  </thead>\n",
       "  <tbody>\n",
       "    <tr>\n",
       "      <th>0</th>\n",
       "      <td>12346</td>\n",
       "      <td>325</td>\n",
       "      <td>2</td>\n",
       "      <td>154367.20</td>\n",
       "    </tr>\n",
       "    <tr>\n",
       "      <th>1</th>\n",
       "      <td>12347</td>\n",
       "      <td>1</td>\n",
       "      <td>182</td>\n",
       "      <td>4310.00</td>\n",
       "    </tr>\n",
       "    <tr>\n",
       "      <th>2</th>\n",
       "      <td>12348</td>\n",
       "      <td>74</td>\n",
       "      <td>31</td>\n",
       "      <td>1797.24</td>\n",
       "    </tr>\n",
       "    <tr>\n",
       "      <th>3</th>\n",
       "      <td>12349</td>\n",
       "      <td>18</td>\n",
       "      <td>73</td>\n",
       "      <td>1757.55</td>\n",
       "    </tr>\n",
       "  </tbody>\n",
       "</table>\n",
       "</div>"
      ],
      "text/plain": [
       "   CustomerID  recency_days  Frequency     amount\n",
       "0       12346           325          2  154367.20\n",
       "1       12347             1        182    4310.00\n",
       "2       12348            74         31    1797.24\n",
       "3       12349            18         73    1757.55"
      ]
     },
     "execution_count": 18,
     "metadata": {},
     "output_type": "execute_result"
    }
   ],
   "source": [
    "#merging Recency, Frequency, Monetory Value\n",
    "df_RFA= pd.merge(right= df_con1, left= df_rec, on= 'CustomerID', how= 'inner')\n",
    "df_RFA= pd.DataFrame(df_RFA)\n",
    "df_RFA[:4]"
   ]
  },
  {
   "cell_type": "markdown",
   "id": "2107d75c",
   "metadata": {
    "papermill": {
     "duration": 0.01977,
     "end_time": "2023-07-21T11:54:40.603752",
     "exception": false,
     "start_time": "2023-07-21T11:54:40.583982",
     "status": "completed"
    },
    "tags": []
   },
   "source": [
    "Let the above df be our final df for **RFA analysis**"
   ]
  },
  {
   "cell_type": "markdown",
   "id": "b63085fc",
   "metadata": {
    "papermill": {
     "duration": 0.019869,
     "end_time": "2023-07-21T11:54:40.643342",
     "exception": false,
     "start_time": "2023-07-21T11:54:40.623473",
     "status": "completed"
    },
    "tags": []
   },
   "source": [
    "### Outlier analysis"
   ]
  },
  {
   "cell_type": "code",
   "execution_count": 19,
   "id": "865a37cb",
   "metadata": {
    "execution": {
     "iopub.execute_input": "2023-07-21T11:54:40.685707Z",
     "iopub.status.busy": "2023-07-21T11:54:40.684497Z",
     "iopub.status.idle": "2023-07-21T11:54:40.712470Z",
     "shell.execute_reply": "2023-07-21T11:54:40.711435Z"
    },
    "papermill": {
     "duration": 0.051306,
     "end_time": "2023-07-21T11:54:40.714474",
     "exception": false,
     "start_time": "2023-07-21T11:54:40.663168",
     "status": "completed"
    },
    "tags": []
   },
   "outputs": [
    {
     "data": {
      "text/html": [
       "<div>\n",
       "<style scoped>\n",
       "    .dataframe tbody tr th:only-of-type {\n",
       "        vertical-align: middle;\n",
       "    }\n",
       "\n",
       "    .dataframe tbody tr th {\n",
       "        vertical-align: top;\n",
       "    }\n",
       "\n",
       "    .dataframe thead th {\n",
       "        text-align: right;\n",
       "    }\n",
       "</style>\n",
       "<table border=\"1\" class=\"dataframe\">\n",
       "  <thead>\n",
       "    <tr style=\"text-align: right;\">\n",
       "      <th></th>\n",
       "      <th>recency_days</th>\n",
       "      <th>Frequency</th>\n",
       "      <th>amount</th>\n",
       "    </tr>\n",
       "  </thead>\n",
       "  <tbody>\n",
       "    <tr>\n",
       "      <th>count</th>\n",
       "      <td>4372.00</td>\n",
       "      <td>4372.00</td>\n",
       "      <td>4372.00</td>\n",
       "    </tr>\n",
       "    <tr>\n",
       "      <th>mean</th>\n",
       "      <td>91.05</td>\n",
       "      <td>93.05</td>\n",
       "      <td>2175.52</td>\n",
       "    </tr>\n",
       "    <tr>\n",
       "      <th>std</th>\n",
       "      <td>100.77</td>\n",
       "      <td>232.47</td>\n",
       "      <td>10492.89</td>\n",
       "    </tr>\n",
       "    <tr>\n",
       "      <th>min</th>\n",
       "      <td>0.00</td>\n",
       "      <td>1.00</td>\n",
       "      <td>0.00</td>\n",
       "    </tr>\n",
       "    <tr>\n",
       "      <th>25%</th>\n",
       "      <td>16.00</td>\n",
       "      <td>17.00</td>\n",
       "      <td>308.57</td>\n",
       "    </tr>\n",
       "    <tr>\n",
       "      <th>50%</th>\n",
       "      <td>49.00</td>\n",
       "      <td>42.00</td>\n",
       "      <td>677.98</td>\n",
       "    </tr>\n",
       "    <tr>\n",
       "      <th>75%</th>\n",
       "      <td>142.00</td>\n",
       "      <td>102.00</td>\n",
       "      <td>1696.28</td>\n",
       "    </tr>\n",
       "    <tr>\n",
       "      <th>95%</th>\n",
       "      <td>312.00</td>\n",
       "      <td>317.90</td>\n",
       "      <td>5969.24</td>\n",
       "    </tr>\n",
       "    <tr>\n",
       "      <th>99%</th>\n",
       "      <td>368.00</td>\n",
       "      <td>671.87</td>\n",
       "      <td>20724.91</td>\n",
       "    </tr>\n",
       "    <tr>\n",
       "      <th>max</th>\n",
       "      <td>373.00</td>\n",
       "      <td>7983.00</td>\n",
       "      <td>336942.10</td>\n",
       "    </tr>\n",
       "  </tbody>\n",
       "</table>\n",
       "</div>"
      ],
      "text/plain": [
       "       recency_days  Frequency     amount\n",
       "count       4372.00    4372.00    4372.00\n",
       "mean          91.05      93.05    2175.52\n",
       "std          100.77     232.47   10492.89\n",
       "min            0.00       1.00       0.00\n",
       "25%           16.00      17.00     308.57\n",
       "50%           49.00      42.00     677.98\n",
       "75%          142.00     102.00    1696.28\n",
       "95%          312.00     317.90    5969.24\n",
       "99%          368.00     671.87   20724.91\n",
       "max          373.00    7983.00  336942.10"
      ]
     },
     "execution_count": 19,
     "metadata": {},
     "output_type": "execute_result"
    }
   ],
   "source": [
    "df_RFA[['recency_days', 'Frequency', 'amount']].describe(percentiles=[0.25,0.5,0.75,0.95,0.99]).round(2)"
   ]
  },
  {
   "cell_type": "code",
   "execution_count": 20,
   "id": "65819751",
   "metadata": {
    "execution": {
     "iopub.execute_input": "2023-07-21T11:54:40.756973Z",
     "iopub.status.busy": "2023-07-21T11:54:40.756404Z",
     "iopub.status.idle": "2023-07-21T11:54:40.760822Z",
     "shell.execute_reply": "2023-07-21T11:54:40.760143Z"
    },
    "papermill": {
     "duration": 0.028456,
     "end_time": "2023-07-21T11:54:40.762813",
     "exception": false,
     "start_time": "2023-07-21T11:54:40.734357",
     "status": "completed"
    },
    "tags": []
   },
   "outputs": [],
   "source": [
    "#defining function for plotting outliers\n",
    "def outlier_analysis(col, index):\n",
    "  plt.subplot(1,3,index)\n",
    "  sns.boxplot(df_RFA[col])\n",
    "  plt.title('dist of {}'.format(col), color= 'g')"
   ]
  },
  {
   "cell_type": "code",
   "execution_count": 21,
   "id": "d95c7b9c",
   "metadata": {
    "execution": {
     "iopub.execute_input": "2023-07-21T11:54:40.805150Z",
     "iopub.status.busy": "2023-07-21T11:54:40.804587Z",
     "iopub.status.idle": "2023-07-21T11:54:41.401341Z",
     "shell.execute_reply": "2023-07-21T11:54:41.400279Z"
    },
    "papermill": {
     "duration": 0.6213,
     "end_time": "2023-07-21T11:54:41.404028",
     "exception": false,
     "start_time": "2023-07-21T11:54:40.782728",
     "status": "completed"
    },
    "tags": []
   },
   "outputs": [
    {
     "data": {
      "image/png": "[encoded data removed]",
      "text/plain": [
       "<Figure size 1500x400 with 3 Axes>"
      ]
     },
     "metadata": {},
     "output_type": "display_data"
    }
   ],
   "source": [
    "#iterating the outlier analysis function\n",
    "cols= ['recency_days', 'Frequency', 'amount']\n",
    "plt.figure(figsize=[15,4])\n",
    "for i in enumerate(cols):\n",
    "  outlier_analysis(i[1], i[0]+1)\n",
    "plt.show()"
   ]
  },
  {
   "cell_type": "markdown",
   "id": "df118ccf",
   "metadata": {
    "papermill": {
     "duration": 0.020192,
     "end_time": "2023-07-21T11:54:41.444635",
     "exception": false,
     "start_time": "2023-07-21T11:54:41.424443",
     "status": "completed"
    },
    "tags": []
   },
   "source": [
    "**Observation:**\n",
    "* Distribution of `frequency` and `amount` is heavily squed.\n",
    "* We will decide an optimum level to filter outliers based on bussiness consideration.\n",
    "* Dropping all outliers will not be good approach, say in case of `Amount` there may be customers will sum of all bills above 2 Lakhs.\n",
    " * So we will cap the customers between 5th and 99th percentile values and check the distribution."
   ]
  },
  {
   "cell_type": "code",
   "execution_count": 22,
   "id": "47c4f5ac",
   "metadata": {
    "execution": {
     "iopub.execute_input": "2023-07-21T11:54:41.486974Z",
     "iopub.status.busy": "2023-07-21T11:54:41.486590Z",
     "iopub.status.idle": "2023-07-21T11:54:41.500219Z",
     "shell.execute_reply": "2023-07-21T11:54:41.499328Z"
    },
    "papermill": {
     "duration": 0.037727,
     "end_time": "2023-07-21T11:54:41.502853",
     "exception": false,
     "start_time": "2023-07-21T11:54:41.465126",
     "status": "completed"
    },
    "tags": []
   },
   "outputs": [
    {
     "data": {
      "text/plain": [
       "(4244, 4)"
      ]
     },
     "execution_count": 22,
     "metadata": {},
     "output_type": "execute_result"
    }
   ],
   "source": [
    "#customers b/w 5th and 99th percentile value.\n",
    "for i in cols:\n",
    "  df_RFA= df_RFA[df_RFA[i] <= df_RFA[i].quantile(0.99)]\n",
    "df_RFA= df_RFA.reset_index(drop=True)\n",
    "df_RFA.shape"
   ]
  },
  {
   "cell_type": "code",
   "execution_count": 23,
   "id": "7ddb3b53",
   "metadata": {
    "execution": {
     "iopub.execute_input": "2023-07-21T11:54:41.547405Z",
     "iopub.status.busy": "2023-07-21T11:54:41.547008Z",
     "iopub.status.idle": "2023-07-21T11:54:41.572243Z",
     "shell.execute_reply": "2023-07-21T11:54:41.571378Z"
    },
    "papermill": {
     "duration": 0.050354,
     "end_time": "2023-07-21T11:54:41.574179",
     "exception": false,
     "start_time": "2023-07-21T11:54:41.523825",
     "status": "completed"
    },
    "tags": []
   },
   "outputs": [
    {
     "data": {
      "text/html": [
       "<div>\n",
       "<style scoped>\n",
       "    .dataframe tbody tr th:only-of-type {\n",
       "        vertical-align: middle;\n",
       "    }\n",
       "\n",
       "    .dataframe tbody tr th {\n",
       "        vertical-align: top;\n",
       "    }\n",
       "\n",
       "    .dataframe thead th {\n",
       "        text-align: right;\n",
       "    }\n",
       "</style>\n",
       "<table border=\"1\" class=\"dataframe\">\n",
       "  <thead>\n",
       "    <tr style=\"text-align: right;\">\n",
       "      <th></th>\n",
       "      <th>recency_days</th>\n",
       "      <th>Frequency</th>\n",
       "      <th>amount</th>\n",
       "    </tr>\n",
       "  </thead>\n",
       "  <tbody>\n",
       "    <tr>\n",
       "      <th>count</th>\n",
       "      <td>4244.00</td>\n",
       "      <td>4244.00</td>\n",
       "      <td>4244.00</td>\n",
       "    </tr>\n",
       "    <tr>\n",
       "      <th>mean</th>\n",
       "      <td>89.89</td>\n",
       "      <td>77.11</td>\n",
       "      <td>1358.91</td>\n",
       "    </tr>\n",
       "    <tr>\n",
       "      <th>std</th>\n",
       "      <td>97.66</td>\n",
       "      <td>97.19</td>\n",
       "      <td>1900.40</td>\n",
       "    </tr>\n",
       "    <tr>\n",
       "      <th>min</th>\n",
       "      <td>0.00</td>\n",
       "      <td>1.00</td>\n",
       "      <td>0.00</td>\n",
       "    </tr>\n",
       "    <tr>\n",
       "      <th>25%</th>\n",
       "      <td>17.00</td>\n",
       "      <td>17.00</td>\n",
       "      <td>308.30</td>\n",
       "    </tr>\n",
       "    <tr>\n",
       "      <th>50%</th>\n",
       "      <td>49.50</td>\n",
       "      <td>41.00</td>\n",
       "      <td>668.12</td>\n",
       "    </tr>\n",
       "    <tr>\n",
       "      <th>75%</th>\n",
       "      <td>140.00</td>\n",
       "      <td>98.00</td>\n",
       "      <td>1610.74</td>\n",
       "    </tr>\n",
       "    <tr>\n",
       "      <th>95%</th>\n",
       "      <td>304.85</td>\n",
       "      <td>284.00</td>\n",
       "      <td>5026.34</td>\n",
       "    </tr>\n",
       "    <tr>\n",
       "      <th>99%</th>\n",
       "      <td>361.00</td>\n",
       "      <td>480.14</td>\n",
       "      <td>10196.26</td>\n",
       "    </tr>\n",
       "    <tr>\n",
       "      <th>max</th>\n",
       "      <td>368.00</td>\n",
       "      <td>671.00</td>\n",
       "      <td>16507.24</td>\n",
       "    </tr>\n",
       "  </tbody>\n",
       "</table>\n",
       "</div>"
      ],
      "text/plain": [
       "       recency_days  Frequency    amount\n",
       "count       4244.00    4244.00   4244.00\n",
       "mean          89.89      77.11   1358.91\n",
       "std           97.66      97.19   1900.40\n",
       "min            0.00       1.00      0.00\n",
       "25%           17.00      17.00    308.30\n",
       "50%           49.50      41.00    668.12\n",
       "75%          140.00      98.00   1610.74\n",
       "95%          304.85     284.00   5026.34\n",
       "99%          361.00     480.14  10196.26\n",
       "max          368.00     671.00  16507.24"
      ]
     },
     "execution_count": 23,
     "metadata": {},
     "output_type": "execute_result"
    }
   ],
   "source": [
    "#checking distribution of values\n",
    "df_RFA[['recency_days', 'Frequency', 'amount']].describe(percentiles=[0.25,0.5,0.75,0.95,0.99]).round(2)"
   ]
  },
  {
   "cell_type": "markdown",
   "id": "8de214a4",
   "metadata": {
    "papermill": {
     "duration": 0.020342,
     "end_time": "2023-07-21T11:54:41.615030",
     "exception": false,
     "start_time": "2023-07-21T11:54:41.594688",
     "status": "completed"
    },
    "tags": []
   },
   "source": [
    "ok now it seems that the datapoints are not so skewed based on percentile values."
   ]
  },
  {
   "cell_type": "code",
   "execution_count": 24,
   "id": "03cf1671",
   "metadata": {
    "execution": {
     "iopub.execute_input": "2023-07-21T11:54:41.660530Z",
     "iopub.status.busy": "2023-07-21T11:54:41.659827Z",
     "iopub.status.idle": "2023-07-21T11:54:42.224085Z",
     "shell.execute_reply": "2023-07-21T11:54:42.223023Z"
    },
    "papermill": {
     "duration": 0.590241,
     "end_time": "2023-07-21T11:54:42.226444",
     "exception": false,
     "start_time": "2023-07-21T11:54:41.636203",
     "status": "completed"
    },
    "tags": []
   },
   "outputs": [
    {
     "data": {
      "image/png": "[encoded data removed]",
      "text/plain": [
       "<Figure size 1500x400 with 3 Axes>"
      ]
     },
     "metadata": {},
     "output_type": "display_data"
    }
   ],
   "source": [
    "#plotting again to check distribution of values\n",
    "plt.figure(figsize=[15,4])\n",
    "for i in enumerate(cols):\n",
    "  outlier_analysis(i[1], i[0]+1)\n",
    "plt.show()"
   ]
  },
  {
   "cell_type": "markdown",
   "id": "0106c16d",
   "metadata": {
    "papermill": {
     "duration": 0.021705,
     "end_time": "2023-07-21T11:54:42.270169",
     "exception": false,
     "start_time": "2023-07-21T11:54:42.248464",
     "status": "completed"
    },
    "tags": []
   },
   "source": [
    "## Feature scaling"
   ]
  },
  {
   "cell_type": "code",
   "execution_count": 25,
   "id": "a35aad93",
   "metadata": {
    "execution": {
     "iopub.execute_input": "2023-07-21T11:54:42.316341Z",
     "iopub.status.busy": "2023-07-21T11:54:42.315218Z",
     "iopub.status.idle": "2023-07-21T11:54:42.483129Z",
     "shell.execute_reply": "2023-07-21T11:54:42.482062Z"
    },
    "papermill": {
     "duration": 0.193632,
     "end_time": "2023-07-21T11:54:42.485685",
     "exception": false,
     "start_time": "2023-07-21T11:54:42.292053",
     "status": "completed"
    },
    "tags": []
   },
   "outputs": [
    {
     "data": {
      "text/html": [
       "<div>\n",
       "<style scoped>\n",
       "    .dataframe tbody tr th:only-of-type {\n",
       "        vertical-align: middle;\n",
       "    }\n",
       "\n",
       "    .dataframe tbody tr th {\n",
       "        vertical-align: top;\n",
       "    }\n",
       "\n",
       "    .dataframe thead th {\n",
       "        text-align: right;\n",
       "    }\n",
       "</style>\n",
       "<table border=\"1\" class=\"dataframe\">\n",
       "  <thead>\n",
       "    <tr style=\"text-align: right;\">\n",
       "      <th></th>\n",
       "      <th>recency_days</th>\n",
       "      <th>Frequency</th>\n",
       "      <th>amount</th>\n",
       "    </tr>\n",
       "  </thead>\n",
       "  <tbody>\n",
       "    <tr>\n",
       "      <th>0</th>\n",
       "      <td>-0.910297</td>\n",
       "      <td>1.079299</td>\n",
       "      <td>1.553063</td>\n",
       "    </tr>\n",
       "    <tr>\n",
       "      <th>1</th>\n",
       "      <td>-0.162699</td>\n",
       "      <td>-0.474517</td>\n",
       "      <td>0.230680</td>\n",
       "    </tr>\n",
       "    <tr>\n",
       "      <th>2</th>\n",
       "      <td>-0.736199</td>\n",
       "      <td>-0.042329</td>\n",
       "      <td>0.209793</td>\n",
       "    </tr>\n",
       "    <tr>\n",
       "      <th>3</th>\n",
       "      <td>2.243952</td>\n",
       "      <td>-0.618579</td>\n",
       "      <td>-0.539164</td>\n",
       "    </tr>\n",
       "  </tbody>\n",
       "</table>\n",
       "</div>"
      ],
      "text/plain": [
       "   recency_days  Frequency    amount\n",
       "0     -0.910297   1.079299  1.553063\n",
       "1     -0.162699  -0.474517  0.230680\n",
       "2     -0.736199  -0.042329  0.209793\n",
       "3      2.243952  -0.618579 -0.539164"
      ]
     },
     "execution_count": 25,
     "metadata": {},
     "output_type": "execute_result"
    }
   ],
   "source": [
    "#scaling\n",
    "from sklearn.preprocessing import StandardScaler\n",
    "\n",
    "scaler= StandardScaler()\n",
    "df_RFA_scaled= df_RFA[['recency_days', 'Frequency','amount']]\n",
    "df_RFA_scaled= scaler.fit_transform(df_RFA_scaled)\n",
    "\n",
    "#converting into dataframe\n",
    "df_RFA_scaled = pd.DataFrame(df_RFA_scaled, columns=['recency_days', 'Frequency','amount'])\n",
    "df_RFA_scaled[:4]"
   ]
  },
  {
   "cell_type": "code",
   "execution_count": 26,
   "id": "366f8009",
   "metadata": {
    "execution": {
     "iopub.execute_input": "2023-07-21T11:54:42.531861Z",
     "iopub.status.busy": "2023-07-21T11:54:42.531112Z",
     "iopub.status.idle": "2023-07-21T11:54:42.554451Z",
     "shell.execute_reply": "2023-07-21T11:54:42.553317Z"
    },
    "papermill": {
     "duration": 0.048728,
     "end_time": "2023-07-21T11:54:42.556668",
     "exception": false,
     "start_time": "2023-07-21T11:54:42.507940",
     "status": "completed"
    },
    "tags": []
   },
   "outputs": [
    {
     "data": {
      "text/html": [
       "<div>\n",
       "<style scoped>\n",
       "    .dataframe tbody tr th:only-of-type {\n",
       "        vertical-align: middle;\n",
       "    }\n",
       "\n",
       "    .dataframe tbody tr th {\n",
       "        vertical-align: top;\n",
       "    }\n",
       "\n",
       "    .dataframe thead th {\n",
       "        text-align: right;\n",
       "    }\n",
       "</style>\n",
       "<table border=\"1\" class=\"dataframe\">\n",
       "  <thead>\n",
       "    <tr style=\"text-align: right;\">\n",
       "      <th></th>\n",
       "      <th>recency_days</th>\n",
       "      <th>Frequency</th>\n",
       "      <th>amount</th>\n",
       "    </tr>\n",
       "  </thead>\n",
       "  <tbody>\n",
       "    <tr>\n",
       "      <th>count</th>\n",
       "      <td>4244.0000</td>\n",
       "      <td>4244.0000</td>\n",
       "      <td>4244.0000</td>\n",
       "    </tr>\n",
       "    <tr>\n",
       "      <th>mean</th>\n",
       "      <td>0.0000</td>\n",
       "      <td>-0.0000</td>\n",
       "      <td>-0.0000</td>\n",
       "    </tr>\n",
       "    <tr>\n",
       "      <th>std</th>\n",
       "      <td>1.0001</td>\n",
       "      <td>1.0001</td>\n",
       "      <td>1.0001</td>\n",
       "    </tr>\n",
       "    <tr>\n",
       "      <th>min</th>\n",
       "      <td>-0.9205</td>\n",
       "      <td>-0.7832</td>\n",
       "      <td>-0.7151</td>\n",
       "    </tr>\n",
       "    <tr>\n",
       "      <th>25%</th>\n",
       "      <td>-0.7464</td>\n",
       "      <td>-0.6186</td>\n",
       "      <td>-0.5529</td>\n",
       "    </tr>\n",
       "    <tr>\n",
       "      <th>50%</th>\n",
       "      <td>-0.4136</td>\n",
       "      <td>-0.3716</td>\n",
       "      <td>-0.3635</td>\n",
       "    </tr>\n",
       "    <tr>\n",
       "      <th>75%</th>\n",
       "      <td>0.5132</td>\n",
       "      <td>0.2149</td>\n",
       "      <td>0.1325</td>\n",
       "    </tr>\n",
       "    <tr>\n",
       "      <th>max</th>\n",
       "      <td>2.8482</td>\n",
       "      <td>6.1112</td>\n",
       "      <td>7.9721</td>\n",
       "    </tr>\n",
       "  </tbody>\n",
       "</table>\n",
       "</div>"
      ],
      "text/plain": [
       "       recency_days  Frequency     amount\n",
       "count     4244.0000  4244.0000  4244.0000\n",
       "mean         0.0000    -0.0000    -0.0000\n",
       "std          1.0001     1.0001     1.0001\n",
       "min         -0.9205    -0.7832    -0.7151\n",
       "25%         -0.7464    -0.6186    -0.5529\n",
       "50%         -0.4136    -0.3716    -0.3635\n",
       "75%          0.5132     0.2149     0.1325\n",
       "max          2.8482     6.1112     7.9721"
      ]
     },
     "execution_count": 26,
     "metadata": {},
     "output_type": "execute_result"
    }
   ],
   "source": [
    "#standardisation check\n",
    "df_RFA_scaled.describe().round(4)"
   ]
  },
  {
   "cell_type": "markdown",
   "id": "9062ae1b",
   "metadata": {
    "papermill": {
     "duration": 0.021581,
     "end_time": "2023-07-21T11:54:42.600917",
     "exception": false,
     "start_time": "2023-07-21T11:54:42.579336",
     "status": "completed"
    },
    "tags": []
   },
   "source": [
    "## Hopkin's Statistics\n",
    "* Hopkin's statistics is used to check whether out data frame is usable / fit for clustering.\n",
    "* The cvalue ranges between -1 to 1.\n",
    "* where, 1 indicated `Highly usable`, -1 indicated `Unusable`"
   ]
  },
  {
   "cell_type": "code",
   "execution_count": 27,
   "id": "31e76d61",
   "metadata": {
    "execution": {
     "iopub.execute_input": "2023-07-21T11:54:42.649702Z",
     "iopub.status.busy": "2023-07-21T11:54:42.649229Z",
     "iopub.status.idle": "2023-07-21T11:54:42.965384Z",
     "shell.execute_reply": "2023-07-21T11:54:42.964320Z"
    },
    "papermill": {
     "duration": 0.344125,
     "end_time": "2023-07-21T11:54:42.968172",
     "exception": false,
     "start_time": "2023-07-21T11:54:42.624047",
     "status": "completed"
    },
    "tags": []
   },
   "outputs": [],
   "source": [
    "from sklearn.neighbors import NearestNeighbors\n",
    "from random import sample\n",
    "from numpy.random import uniform\n",
    "from math import isnan\n",
    " \n",
    "def hopkins(X):\n",
    "    d = X.shape[1] # columns\n",
    "    n = X.shape[0] # rows\n",
    "    m = int(0.1 * n) \n",
    "    nbrs = NearestNeighbors(n_neighbors=1).fit(X.values)\n",
    " \n",
    "    rand_X = sample(range(0, n, 1), m)\n",
    " \n",
    "    ujd = []\n",
    "    wjd = []\n",
    "    for j in range(0, m):\n",
    "        u_dist, _ = nbrs.kneighbors(uniform(np.amin(X,axis=0),np.amax(X,axis=0),d).reshape(1, -1), 2, return_distance=True)\n",
    "        ujd.append(u_dist[0][1])\n",
    "        w_dist, _ = nbrs.kneighbors(X.iloc[rand_X[j]].values.reshape(1, -1), 2, return_distance=True)\n",
    "        wjd.append(w_dist[0][1])\n",
    " \n",
    "    H = sum(ujd) / (sum(ujd) + sum(wjd))\n",
    "    if isnan(H):\n",
    "        print(ujd, wjd)\n",
    "        H = 0\n",
    " \n",
    "    return H"
   ]
  },
  {
   "cell_type": "code",
   "execution_count": 28,
   "id": "fdec25a3",
   "metadata": {
    "execution": {
     "iopub.execute_input": "2023-07-21T11:54:43.016859Z",
     "iopub.status.busy": "2023-07-21T11:54:43.016487Z",
     "iopub.status.idle": "2023-07-21T11:54:43.902038Z",
     "shell.execute_reply": "2023-07-21T11:54:43.900882Z"
    },
    "papermill": {
     "duration": 0.912294,
     "end_time": "2023-07-21T11:54:43.904534",
     "exception": false,
     "start_time": "2023-07-21T11:54:42.992240",
     "status": "completed"
    },
    "tags": []
   },
   "outputs": [
    {
     "name": "stdout",
     "output_type": "stream",
     "text": [
      "Hopkins value for our dataset is: 0.951, which represents highly usable\n"
     ]
    }
   ],
   "source": [
    "print('Hopkins value for our dataset is: {}, which represents highly usable'.format(hopkins(df_RFA_scaled).round(3)))"
   ]
  },
  {
   "cell_type": "markdown",
   "id": "cda33f5f",
   "metadata": {
    "papermill": {
     "duration": 0.02245,
     "end_time": "2023-07-21T11:54:43.950172",
     "exception": false,
     "start_time": "2023-07-21T11:54:43.927722",
     "status": "completed"
    },
    "tags": []
   },
   "source": [
    "## Model Building\n",
    "we will first create models with random no. of clusters, finally we can bulit model with optimal parameters."
   ]
  },
  {
   "cell_type": "code",
   "execution_count": 29,
   "id": "a5bc9aeb",
   "metadata": {
    "execution": {
     "iopub.execute_input": "2023-07-21T11:54:43.998400Z",
     "iopub.status.busy": "2023-07-21T11:54:43.997646Z",
     "iopub.status.idle": "2023-07-21T11:54:45.412221Z",
     "shell.execute_reply": "2023-07-21T11:54:45.411205Z"
    },
    "papermill": {
     "duration": 1.441279,
     "end_time": "2023-07-21T11:54:45.414651",
     "exception": false,
     "start_time": "2023-07-21T11:54:43.973372",
     "status": "completed"
    },
    "tags": []
   },
   "outputs": [
    {
     "data": {
      "text/plain": [
       "array([2, 0, 0, ..., 3, 0, 0], dtype=int32)"
      ]
     },
     "execution_count": 29,
     "metadata": {},
     "output_type": "execute_result"
    }
   ],
   "source": [
    "#model\n",
    "from sklearn.cluster import KMeans\n",
    "\n",
    "#instantiate with no. of clusters as 4.\n",
    "kmeans= KMeans(n_clusters= 4, init= 'k-means++', max_iter=300)\n",
    "\n",
    "#Fit the model\n",
    "kmeans.fit(df_RFA_scaled)\n",
    "kmeans.labels_"
   ]
  },
  {
   "cell_type": "markdown",
   "id": "4c9e7add",
   "metadata": {
    "papermill": {
     "duration": 0.022703,
     "end_time": "2023-07-21T11:54:45.461428",
     "exception": false,
     "start_time": "2023-07-21T11:54:45.438725",
     "status": "completed"
    },
    "tags": []
   },
   "source": [
    "### Optimum parameters\n",
    "selecting optimal parameters through,\n",
    "* Sum of squared distance (SSD).\n",
    "* silhouette Score."
   ]
  },
  {
   "cell_type": "code",
   "execution_count": 30,
   "id": "6b80891c",
   "metadata": {
    "execution": {
     "iopub.execute_input": "2023-07-21T11:54:45.509142Z",
     "iopub.status.busy": "2023-07-21T11:54:45.508723Z",
     "iopub.status.idle": "2023-07-21T11:54:53.956452Z",
     "shell.execute_reply": "2023-07-21T11:54:53.955417Z"
    },
    "papermill": {
     "duration": 8.474524,
     "end_time": "2023-07-21T11:54:53.958977",
     "exception": false,
     "start_time": "2023-07-21T11:54:45.484453",
     "status": "completed"
    },
    "tags": []
   },
   "outputs": [],
   "source": [
    "#finding optimal number of clusters using SSD.\n",
    "ssd=[]\n",
    "n_clusters= [i for i in range(2,9)]\n",
    "for cluster in n_clusters:\n",
    "  kmeans= KMeans(n_clusters= cluster, init= 'k-means++', max_iter=300)\n",
    "  kmeans.fit(df_RFA_scaled)\n",
    "  ssd.append(kmeans.inertia_)"
   ]
  },
  {
   "cell_type": "code",
   "execution_count": 31,
   "id": "b7a1b6f4",
   "metadata": {
    "execution": {
     "iopub.execute_input": "2023-07-21T11:54:54.009336Z",
     "iopub.status.busy": "2023-07-21T11:54:54.008226Z",
     "iopub.status.idle": "2023-07-21T11:54:54.227349Z",
     "shell.execute_reply": "2023-07-21T11:54:54.226554Z"
    },
    "papermill": {
     "duration": 0.24621,
     "end_time": "2023-07-21T11:54:54.229390",
     "exception": false,
     "start_time": "2023-07-21T11:54:53.983180",
     "status": "completed"
    },
    "tags": []
   },
   "outputs": [
    {
     "data": {
      "image/png": "[encoded data removed]",
      "text/plain": [
       "<Figure size 500x400 with 1 Axes>"
      ]
     },
     "metadata": {},
     "output_type": "display_data"
    }
   ],
   "source": [
    "#Elbow curve\n",
    "plt.figure(figsize=[5,4])\n",
    "plt.plot(n_clusters, ssd, 'r',  marker= 'o', linestyle='-')\n",
    "for i in n_clusters:\n",
    "  plt.axvline(x=i, linestyle= 'dotted', color= 'k')\n",
    "plt.xlabel('No. of clusters', color= 'g')\n",
    "plt.ylabel('Sum of squared distance', color= 'g')\n",
    "plt.title('Elbow curve-SSD', color='b')\n",
    "plt.show()"
   ]
  },
  {
   "cell_type": "markdown",
   "id": "fb027aab",
   "metadata": {
    "papermill": {
     "duration": 0.02306,
     "end_time": "2023-07-21T11:54:54.276093",
     "exception": false,
     "start_time": "2023-07-21T11:54:54.253033",
     "status": "completed"
    },
    "tags": []
   },
   "source": [
    "**Observation:**\n",
    "* Elbow curve is used to select optimum number of clusters.\n",
    "* Usually SSD decreases with increase in number of clusters.\n",
    "* Interpretation:\n",
    "    * As elbow curve plots between SSD and number of clusters, cluster after which SSD reduction is significant is selected.\n",
    "    * Here, Till No. of clusters as 3, the graph drops steaply, after 3, the drop in SSD becomes significant.\n",
    "    So we will **choose 3 as optimum no. of clusters**.\n",
    "    \n",
    "    "
   ]
  },
  {
   "cell_type": "code",
   "execution_count": 32,
   "id": "00ffd1dc",
   "metadata": {
    "execution": {
     "iopub.execute_input": "2023-07-21T11:54:54.324038Z",
     "iopub.status.busy": "2023-07-21T11:54:54.323525Z",
     "iopub.status.idle": "2023-07-21T11:55:05.265882Z",
     "shell.execute_reply": "2023-07-21T11:55:05.263906Z"
    },
    "papermill": {
     "duration": 10.969079,
     "end_time": "2023-07-21T11:55:05.268310",
     "exception": false,
     "start_time": "2023-07-21T11:54:54.299231",
     "status": "completed"
    },
    "tags": []
   },
   "outputs": [
    {
     "name": "stdout",
     "output_type": "stream",
     "text": [
      "For no. of cluster: 2, silhouette score is: 0.537\n",
      "For no. of cluster: 3, silhouette score is: 0.507\n",
      "For no. of cluster: 4, silhouette score is: 0.487\n",
      "For no. of cluster: 5, silhouette score is: 0.46\n",
      "For no. of cluster: 6, silhouette score is: 0.415\n",
      "For no. of cluster: 7, silhouette score is: 0.414\n",
      "For no. of cluster: 8, silhouette score is: 0.392\n"
     ]
    }
   ],
   "source": [
    "#silhouette analysis\n",
    "from sklearn.metrics import silhouette_score\n",
    "\n",
    "#iteration\n",
    "n_clusters= [i for i in range(2,9)]\n",
    "silhouette_list=[] \n",
    "for cluster in n_clusters:\n",
    "  kmeans= KMeans(n_clusters= cluster, init= 'k-means++', max_iter=300)\n",
    "  kmeans.fit(df_RFA_scaled)\n",
    "  cluster_label= kmeans.labels_\n",
    "\n",
    "  #silhouette analysis\n",
    "  silhouette= silhouette_score(df_RFA_scaled, cluster_label)\n",
    "  silhouette_list.append(silhouette)\n",
    "  print('For no. of cluster: {0}, silhouette score is: {1}'.format(cluster, silhouette.round(3)))"
   ]
  },
  {
   "cell_type": "markdown",
   "id": "55d19a7a",
   "metadata": {
    "papermill": {
     "duration": 0.024296,
     "end_time": "2023-07-21T11:55:05.317094",
     "exception": false,
     "start_time": "2023-07-21T11:55:05.292798",
     "status": "completed"
    },
    "tags": []
   },
   "source": [
    "* silhouette score is a measure of how close each point in one cluster is to points in the neighboring clusters.\n",
    "* higher the silhouette score, better will be the model.\n",
    "* Based on the score, No. of clusters as 3 looks optimal."
   ]
  },
  {
   "cell_type": "code",
   "execution_count": 33,
   "id": "2b9aba89",
   "metadata": {
    "execution": {
     "iopub.execute_input": "2023-07-21T11:55:05.367371Z",
     "iopub.status.busy": "2023-07-21T11:55:05.366955Z",
     "iopub.status.idle": "2023-07-21T11:55:05.880664Z",
     "shell.execute_reply": "2023-07-21T11:55:05.879528Z"
    },
    "papermill": {
     "duration": 0.54152,
     "end_time": "2023-07-21T11:55:05.883077",
     "exception": false,
     "start_time": "2023-07-21T11:55:05.341557",
     "status": "completed"
    },
    "tags": []
   },
   "outputs": [
    {
     "data": {
      "image/png": "[encoded data removed]",
      "text/plain": [
       "<Figure size 1100x400 with 2 Axes>"
      ]
     },
     "metadata": {},
     "output_type": "display_data"
    }
   ],
   "source": [
    "#plotting silhouette score and comparing with elbow curve\n",
    "plt.figure(figsize=[11,4])\n",
    "plt.subplot(1,2,1)\n",
    "plt.plot(n_clusters, silhouette_list, marker='o', color= 'k')\n",
    "plt.xlabel('No. of clusters', color= 'g')\n",
    "plt.ylabel('Silhouette Score', color= 'g')\n",
    "plt.title('Silhouette Score',color= 'b')\n",
    "\n",
    "plt.subplot(1,2,2)\n",
    "plt.plot(n_clusters, ssd, 'r',  marker= 'o', linestyle='-')\n",
    "for i in n_clusters:\n",
    "  plt.axvline(x=i, linestyle= 'dotted', color= 'k')\n",
    "plt.xlabel('No. of clusters', color= 'g')\n",
    "plt.ylabel('Sum of squared distance', color= 'g')\n",
    "plt.title('Elbow curve-SSD', color='b')\n",
    "plt.subplots_adjust(wspace=0.3)\n",
    "plt.show()"
   ]
  },
  {
   "cell_type": "markdown",
   "id": "701d959f",
   "metadata": {
    "papermill": {
     "duration": 0.023991,
     "end_time": "2023-07-21T11:55:05.932343",
     "exception": false,
     "start_time": "2023-07-21T11:55:05.908352",
     "status": "completed"
    },
    "tags": []
   },
   "source": [
    "## Final model\n",
    "buliding our final model with No. of clusters as 3."
   ]
  },
  {
   "cell_type": "code",
   "execution_count": 34,
   "id": "8e89e57c",
   "metadata": {
    "execution": {
     "iopub.execute_input": "2023-07-21T11:55:05.982510Z",
     "iopub.status.busy": "2023-07-21T11:55:05.982020Z",
     "iopub.status.idle": "2023-07-21T11:55:07.199087Z",
     "shell.execute_reply": "2023-07-21T11:55:07.198289Z"
    },
    "papermill": {
     "duration": 1.245819,
     "end_time": "2023-07-21T11:55:07.201488",
     "exception": false,
     "start_time": "2023-07-21T11:55:05.955669",
     "status": "completed"
    },
    "tags": []
   },
   "outputs": [
    {
     "data": {
      "text/plain": [
       "array([0, 1, 1, ..., 2, 1, 1], dtype=int32)"
      ]
     },
     "execution_count": 34,
     "metadata": {},
     "output_type": "execute_result"
    }
   ],
   "source": [
    "#optimal no. of clusters is 3\n",
    "kmeans= KMeans(n_clusters= 3, init= 'k-means++', max_iter=300)\n",
    "\n",
    "#modelbuilding\n",
    "kmeans.fit(df_RFA_scaled)\n",
    "kmeans.labels_"
   ]
  },
  {
   "cell_type": "code",
   "execution_count": 35,
   "id": "4f079646",
   "metadata": {
    "execution": {
     "iopub.execute_input": "2023-07-21T11:55:07.252900Z",
     "iopub.status.busy": "2023-07-21T11:55:07.252567Z",
     "iopub.status.idle": "2023-07-21T11:55:07.264423Z",
     "shell.execute_reply": "2023-07-21T11:55:07.263295Z"
    },
    "papermill": {
     "duration": 0.039775,
     "end_time": "2023-07-21T11:55:07.266828",
     "exception": false,
     "start_time": "2023-07-21T11:55:07.227053",
     "status": "completed"
    },
    "tags": []
   },
   "outputs": [
    {
     "data": {
      "text/html": [
       "<div>\n",
       "<style scoped>\n",
       "    .dataframe tbody tr th:only-of-type {\n",
       "        vertical-align: middle;\n",
       "    }\n",
       "\n",
       "    .dataframe tbody tr th {\n",
       "        vertical-align: top;\n",
       "    }\n",
       "\n",
       "    .dataframe thead th {\n",
       "        text-align: right;\n",
       "    }\n",
       "</style>\n",
       "<table border=\"1\" class=\"dataframe\">\n",
       "  <thead>\n",
       "    <tr style=\"text-align: right;\">\n",
       "      <th></th>\n",
       "      <th>CustomerID</th>\n",
       "      <th>recency_days</th>\n",
       "      <th>Frequency</th>\n",
       "      <th>amount</th>\n",
       "      <th>cluster_id</th>\n",
       "    </tr>\n",
       "  </thead>\n",
       "  <tbody>\n",
       "    <tr>\n",
       "      <th>0</th>\n",
       "      <td>12347</td>\n",
       "      <td>1</td>\n",
       "      <td>182</td>\n",
       "      <td>4310.00</td>\n",
       "      <td>0</td>\n",
       "    </tr>\n",
       "    <tr>\n",
       "      <th>1</th>\n",
       "      <td>12348</td>\n",
       "      <td>74</td>\n",
       "      <td>31</td>\n",
       "      <td>1797.24</td>\n",
       "      <td>1</td>\n",
       "    </tr>\n",
       "    <tr>\n",
       "      <th>2</th>\n",
       "      <td>12349</td>\n",
       "      <td>18</td>\n",
       "      <td>73</td>\n",
       "      <td>1757.55</td>\n",
       "      <td>1</td>\n",
       "    </tr>\n",
       "    <tr>\n",
       "      <th>3</th>\n",
       "      <td>12350</td>\n",
       "      <td>309</td>\n",
       "      <td>17</td>\n",
       "      <td>334.40</td>\n",
       "      <td>2</td>\n",
       "    </tr>\n",
       "  </tbody>\n",
       "</table>\n",
       "</div>"
      ],
      "text/plain": [
       "   CustomerID  recency_days  Frequency   amount  cluster_id\n",
       "0       12347             1        182  4310.00           0\n",
       "1       12348            74         31  1797.24           1\n",
       "2       12349            18         73  1757.55           1\n",
       "3       12350           309         17   334.40           2"
      ]
     },
     "execution_count": 35,
     "metadata": {},
     "output_type": "execute_result"
    }
   ],
   "source": [
    "#adding cluster_id feature to RFA df.\n",
    "df_RFA['cluster_id']= kmeans.labels_\n",
    "df_RFA[:4]"
   ]
  },
  {
   "cell_type": "markdown",
   "id": "d1f145bc",
   "metadata": {
    "papermill": {
     "duration": 0.026078,
     "end_time": "2023-07-21T11:55:07.318697",
     "exception": false,
     "start_time": "2023-07-21T11:55:07.292619",
     "status": "completed"
    },
    "tags": []
   },
   "source": [
    "## Final Model Visualisation"
   ]
  },
  {
   "cell_type": "code",
   "execution_count": 36,
   "id": "0c461fb0",
   "metadata": {
    "execution": {
     "iopub.execute_input": "2023-07-21T11:55:07.369489Z",
     "iopub.status.busy": "2023-07-21T11:55:07.369125Z",
     "iopub.status.idle": "2023-07-21T11:55:08.226783Z",
     "shell.execute_reply": "2023-07-21T11:55:08.225665Z"
    },
    "papermill": {
     "duration": 0.886189,
     "end_time": "2023-07-21T11:55:08.229262",
     "exception": false,
     "start_time": "2023-07-21T11:55:07.343073",
     "status": "completed"
    },
    "tags": []
   },
   "outputs": [
    {
     "data": {
      "image/png": "[encoded data removed]",
      "text/plain": [
       "<Figure size 1700x400 with 3 Axes>"
      ]
     },
     "metadata": {},
     "output_type": "display_data"
    }
   ],
   "source": [
    "#Final cluster visualisation\n",
    "plt.figure(figsize=[17,4])\n",
    "cols= ['recency_days', 'Frequency', 'amount']\n",
    "for i in enumerate(cols):\n",
    "  plt.subplot(1,3,i[0]+1)\n",
    "  sns.boxplot(x='cluster_id', y= i[1], data= df_RFA)\n",
    "  plt.title(i[1], color= 'g')\n",
    "plt.show()"
   ]
  },
  {
   "cell_type": "markdown",
   "id": "f3332c8e",
   "metadata": {
    "papermill": {
     "duration": 0.025747,
     "end_time": "2023-07-21T11:55:08.280695",
     "exception": false,
     "start_time": "2023-07-21T11:55:08.254948",
     "status": "completed"
    },
    "tags": []
   },
   "source": [
    "**Final Cluster Observation:**\n",
    "* **Cluster 0:**\n",
    "    * Recency range: 0 to 25 days~\n",
    "    * Frequency Range: 200 to 350 orders~\n",
    "    * Amount range: 1,000 to 1,50,000 ~\n",
    "* **Cluster 1:**\n",
    "    * Recency range: 180 to 280 days~\n",
    "    * Frequency Range: 0 to 25 orders~\n",
    "    * Amount range: 10 to 2,500 ~\n",
    "* **Cluster 2:**\n",
    "    * Recency range: 0 to 50 days~\n",
    "    * Frequency Range: 0 to 50 orders~\n",
    "    * Amount range: 1,000 to 50,000 ~"
   ]
  },
  {
   "cell_type": "code",
   "execution_count": null,
   "id": "4b759aff",
   "metadata": {
    "papermill": {
     "duration": 0.025142,
     "end_time": "2023-07-21T11:55:08.331475",
     "exception": false,
     "start_time": "2023-07-21T11:55:08.306333",
     "status": "completed"
    },
    "tags": []
   },
   "outputs": [],
   "source": []
  }
 ],
 "metadata": {
  "kernelspec": {
   "display_name": "Python 3",
   "language": "python",
   "name": "python3"
  },
  "language_info": {
   "codemirror_mode": {
    "name": "ipython",
    "version": 3
   },
   "file_extension": ".py",
   "mimetype": "text/x-python",
   "name": "python",
   "nbconvert_exporter": "python",
   "pygments_lexer": "ipython3",
   "version": "3.10.12"
  },
  "papermill": {
   "default_parameters": {},
   "duration": 46.510496,
   "end_time": "2023-07-21T11:55:09.380191",
   "environment_variables": {},
   "exception": null,
   "input_path": "__notebook__.ipynb",
   "output_path": "__notebook__.ipynb",
   "parameters": {},
   "start_time": "2023-07-21T11:54:22.869695",
   "version": "2.4.0"
  }
 },
 "nbformat": 4,
 "nbformat_minor": 5
}
